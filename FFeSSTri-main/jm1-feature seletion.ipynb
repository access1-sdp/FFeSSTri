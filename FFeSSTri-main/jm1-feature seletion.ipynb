{
 "cells": [
  {
   "cell_type": "markdown",
   "metadata": {},
   "source": [
    "# 特征相关性分析-信息增益率"
   ]
  },
  {
   "cell_type": "code",
   "execution_count": 2,
   "metadata": {},
   "outputs": [],
   "source": [
    "import pandas as pd\n",
    "import numpy as np\n",
    "#定义计算信息熵的函数：计算Infor(D)\n",
    "def infor(data):\n",
    "    a = pd.value_counts(data) / len(data)\n",
    "    return sum(np.log2(a) * a * (-1))"
   ]
  },
  {
   "cell_type": "code",
   "execution_count": 3,
   "metadata": {},
   "outputs": [],
   "source": [
    "#定义计算信息增益的函数：计算g(D|A)\n",
    "def g(data,str1,str2):\n",
    "    e1 = data.groupby(str1).apply(lambda x:infor(x[str2]))\n",
    "    p1 = pd.value_counts(data[str1]) / len(data[str1])\n",
    "    #计算Infor(D|A)\n",
    "    e2 = sum(e1 * p1)\n",
    "    return infor(data[str2]) - e2"
   ]
  },
  {
   "cell_type": "code",
   "execution_count": 4,
   "metadata": {},
   "outputs": [],
   "source": [
    "#定义计算信息增益率的函数：计算gr(D,A)\n",
    "def gr(data,str1,str2):\n",
    "    return g(data,str1,str2)/infor(data[str1])"
   ]
  },
  {
   "cell_type": "code",
   "execution_count": 5,
   "metadata": {},
   "outputs": [
    {
     "data": {
      "text/html": [
       "<div>\n",
       "<style scoped>\n",
       "    .dataframe tbody tr th:only-of-type {\n",
       "        vertical-align: middle;\n",
       "    }\n",
       "\n",
       "    .dataframe tbody tr th {\n",
       "        vertical-align: top;\n",
       "    }\n",
       "\n",
       "    .dataframe thead th {\n",
       "        text-align: right;\n",
       "    }\n",
       "</style>\n",
       "<table border=\"1\" class=\"dataframe\">\n",
       "  <thead>\n",
       "    <tr style=\"text-align: right;\">\n",
       "      <th></th>\n",
       "      <th>1</th>\n",
       "      <th>2</th>\n",
       "      <th>3</th>\n",
       "      <th>4</th>\n",
       "      <th>5</th>\n",
       "      <th>6</th>\n",
       "      <th>7</th>\n",
       "      <th>8</th>\n",
       "      <th>9</th>\n",
       "      <th>10</th>\n",
       "      <th>...</th>\n",
       "      <th>13</th>\n",
       "      <th>14</th>\n",
       "      <th>15</th>\n",
       "      <th>16</th>\n",
       "      <th>17</th>\n",
       "      <th>18</th>\n",
       "      <th>19</th>\n",
       "      <th>20</th>\n",
       "      <th>21</th>\n",
       "      <th>bug</th>\n",
       "    </tr>\n",
       "  </thead>\n",
       "  <tbody>\n",
       "    <tr>\n",
       "      <th>0</th>\n",
       "      <td>0.000000</td>\n",
       "      <td>0.000000</td>\n",
       "      <td>0.0</td>\n",
       "      <td>0.000000</td>\n",
       "      <td>0.000000</td>\n",
       "      <td>0.000000</td>\n",
       "      <td>0.000000</td>\n",
       "      <td>0.001415</td>\n",
       "      <td>0.013493</td>\n",
       "      <td>0.003581</td>\n",
       "      <td>...</td>\n",
       "      <td>0.000592</td>\n",
       "      <td>0.512824</td>\n",
       "      <td>9.999995e-07</td>\n",
       "      <td>0.000144</td>\n",
       "      <td>0.000662</td>\n",
       "      <td>0.000554</td>\n",
       "      <td>0.001947</td>\n",
       "      <td>0.007272</td>\n",
       "      <td>0.000872</td>\n",
       "      <td>0.0</td>\n",
       "    </tr>\n",
       "    <tr>\n",
       "      <th>1</th>\n",
       "      <td>0.019934</td>\n",
       "      <td>0.008397</td>\n",
       "      <td>0.0</td>\n",
       "      <td>0.004977</td>\n",
       "      <td>0.007389</td>\n",
       "      <td>0.008045</td>\n",
       "      <td>0.018128</td>\n",
       "      <td>0.012789</td>\n",
       "      <td>0.093148</td>\n",
       "      <td>0.048741</td>\n",
       "      <td>...</td>\n",
       "      <td>0.023787</td>\n",
       "      <td>0.048790</td>\n",
       "      <td>7.880543e-04</td>\n",
       "      <td>0.014307</td>\n",
       "      <td>0.025440</td>\n",
       "      <td>0.022865</td>\n",
       "      <td>0.033092</td>\n",
       "      <td>0.044076</td>\n",
       "      <td>0.014090</td>\n",
       "      <td>1.0</td>\n",
       "    </tr>\n",
       "    <tr>\n",
       "      <th>2</th>\n",
       "      <td>0.000000</td>\n",
       "      <td>0.000000</td>\n",
       "      <td>0.0</td>\n",
       "      <td>0.000000</td>\n",
       "      <td>0.000000</td>\n",
       "      <td>0.000000</td>\n",
       "      <td>0.000000</td>\n",
       "      <td>0.000000</td>\n",
       "      <td>0.000000</td>\n",
       "      <td>0.000000</td>\n",
       "      <td>...</td>\n",
       "      <td>0.000000</td>\n",
       "      <td>0.000000</td>\n",
       "      <td>0.000000e+00</td>\n",
       "      <td>0.000000</td>\n",
       "      <td>0.000000</td>\n",
       "      <td>0.000000</td>\n",
       "      <td>0.000000</td>\n",
       "      <td>0.000000</td>\n",
       "      <td>0.001742</td>\n",
       "      <td>1.0</td>\n",
       "    </tr>\n",
       "    <tr>\n",
       "      <th>3</th>\n",
       "      <td>0.000000</td>\n",
       "      <td>0.002421</td>\n",
       "      <td>0.0</td>\n",
       "      <td>0.000000</td>\n",
       "      <td>0.002130</td>\n",
       "      <td>0.000000</td>\n",
       "      <td>0.000000</td>\n",
       "      <td>0.003182</td>\n",
       "      <td>0.017002</td>\n",
       "      <td>0.019723</td>\n",
       "      <td>...</td>\n",
       "      <td>0.002603</td>\n",
       "      <td>0.113329</td>\n",
       "      <td>2.199976e-05</td>\n",
       "      <td>0.001006</td>\n",
       "      <td>0.001654</td>\n",
       "      <td>0.003132</td>\n",
       "      <td>0.002920</td>\n",
       "      <td>0.024040</td>\n",
       "      <td>0.002902</td>\n",
       "      <td>0.0</td>\n",
       "    </tr>\n",
       "    <tr>\n",
       "      <th>4</th>\n",
       "      <td>0.004464</td>\n",
       "      <td>0.007247</td>\n",
       "      <td>0.0</td>\n",
       "      <td>0.000000</td>\n",
       "      <td>0.006377</td>\n",
       "      <td>0.007453</td>\n",
       "      <td>0.012121</td>\n",
       "      <td>0.008111</td>\n",
       "      <td>0.052846</td>\n",
       "      <td>0.026942</td>\n",
       "      <td>...</td>\n",
       "      <td>0.008259</td>\n",
       "      <td>0.086178</td>\n",
       "      <td>1.299916e-04</td>\n",
       "      <td>0.004358</td>\n",
       "      <td>0.010210</td>\n",
       "      <td>0.007170</td>\n",
       "      <td>0.018350</td>\n",
       "      <td>0.033496</td>\n",
       "      <td>0.007816</td>\n",
       "      <td>0.0</td>\n",
       "    </tr>\n",
       "  </tbody>\n",
       "</table>\n",
       "<p>5 rows × 22 columns</p>\n",
       "</div>"
      ],
      "text/plain": [
       "          1         2    3         4         5         6         7         8  \\\n",
       "0  0.000000  0.000000  0.0  0.000000  0.000000  0.000000  0.000000  0.001415   \n",
       "1  0.019934  0.008397  0.0  0.004977  0.007389  0.008045  0.018128  0.012789   \n",
       "2  0.000000  0.000000  0.0  0.000000  0.000000  0.000000  0.000000  0.000000   \n",
       "3  0.000000  0.002421  0.0  0.000000  0.002130  0.000000  0.000000  0.003182   \n",
       "4  0.004464  0.007247  0.0  0.000000  0.006377  0.007453  0.012121  0.008111   \n",
       "\n",
       "          9        10 ...         13        14            15        16  \\\n",
       "0  0.013493  0.003581 ...   0.000592  0.512824  9.999995e-07  0.000144   \n",
       "1  0.093148  0.048741 ...   0.023787  0.048790  7.880543e-04  0.014307   \n",
       "2  0.000000  0.000000 ...   0.000000  0.000000  0.000000e+00  0.000000   \n",
       "3  0.017002  0.019723 ...   0.002603  0.113329  2.199976e-05  0.001006   \n",
       "4  0.052846  0.026942 ...   0.008259  0.086178  1.299916e-04  0.004358   \n",
       "\n",
       "         17        18        19        20        21  bug  \n",
       "0  0.000662  0.000554  0.001947  0.007272  0.000872  0.0  \n",
       "1  0.025440  0.022865  0.033092  0.044076  0.014090  1.0  \n",
       "2  0.000000  0.000000  0.000000  0.000000  0.001742  1.0  \n",
       "3  0.001654  0.003132  0.002920  0.024040  0.002902  0.0  \n",
       "4  0.010210  0.007170  0.018350  0.033496  0.007816  0.0  \n",
       "\n",
       "[5 rows x 22 columns]"
      ]
     },
     "execution_count": 5,
     "metadata": {},
     "output_type": "execute_result"
    }
   ],
   "source": [
    "data=pd.read_csv('jm1.csv')\n",
    "data.columns = [\"1\", \"2\", \"3\", \"4\",\"5\",\"6\",\"7\",\"8\",\"9\",\"10\",\"11\",\"12\",\"13\",\"14\",\"15\",\"16\",\"17\",\"18\",\"19\",\"20\",\"21\",\"bug\"]\n",
    "data.head()"
   ]
  },
  {
   "cell_type": "code",
   "execution_count": 7,
   "metadata": {},
   "outputs": [
    {
     "data": {
      "text/plain": [
       "array([0., 1.])"
      ]
     },
     "execution_count": 7,
     "metadata": {},
     "output_type": "execute_result"
    }
   ],
   "source": [
    "data['bug'].unique()"
   ]
  },
  {
   "cell_type": "code",
   "execution_count": 8,
   "metadata": {},
   "outputs": [
    {
     "name": "stdout",
     "output_type": "stream",
     "text": [
      "[0.0601621661468061, 0.05630196212141019, 0.053612909411505726, 0.05771072786030058, 0.055468151812421165, 0.06136506877477696, 0.04705070551657243, 0.05915962660183275, 0.07676955659307783, 0.07027459836428165, 0.06808688988628514, 0.050559613492092814, 0.06240339867665852, 0.033336001285024786, 0.06809490273447473, 0.07497750099253994, 0.058867738257516906, 0.05909266440151001, 0.05598658096310969, 0.05235203624971291, 0.06473703464209518]\n"
     ]
    }
   ],
   "source": [
    "features = [\"1\", \"2\", \"3\", \"4\",\"5\",\"6\",\"7\",\"8\",\"9\",\"10\",\"11\",\"12\",\"13\",\"14\",\"15\",\"16\",\"17\",\"18\",\"19\",\"20\",\"21\"]\n",
    "lists = []\n",
    "for feature in features:\n",
    "    lists.append(gr(data,feature,'bug'))\n",
    "print(lists)"
   ]
  },
  {
   "cell_type": "code",
   "execution_count": 6,
   "metadata": {},
   "outputs": [],
   "source": [
    "data1 = data.drop(labels=['bug'],axis=1)"
   ]
  },
  {
   "cell_type": "code",
   "execution_count": 10,
   "metadata": {},
   "outputs": [
    {
     "data": {
      "text/plain": [
       "9     0.076770\n",
       "16    0.074978\n",
       "10    0.070275\n",
       "15    0.068095\n",
       "11    0.068087\n",
       "21    0.064737\n",
       "13    0.062403\n",
       "6     0.061365\n",
       "1     0.060162\n",
       "8     0.059160\n",
       "18    0.059093\n",
       "17    0.058868\n",
       "4     0.057711\n",
       "2     0.056302\n",
       "19    0.055987\n",
       "5     0.055468\n",
       "3     0.053613\n",
       "20    0.052352\n",
       "12    0.050560\n",
       "7     0.047051\n",
       "14    0.033336\n",
       "dtype: float64"
      ]
     },
     "execution_count": 10,
     "metadata": {},
     "output_type": "execute_result"
    }
   ],
   "source": [
    "IGR = pd.Series(lists)\n",
    "IGR.index = data1.columns\n",
    "IGR.sort_values(ascending=False)"
   ]
  },
  {
   "cell_type": "code",
   "execution_count": 12,
   "metadata": {},
   "outputs": [
    {
     "data": {
      "text/plain": [
       "<matplotlib.axes._subplots.AxesSubplot at 0x21b94ef8dd8>"
      ]
     },
     "execution_count": 12,
     "metadata": {},
     "output_type": "execute_result"
    },
    {
     "data": {
      "image/png": "[encoded data removed]",
      "text/plain": [
       "<matplotlib.figure.Figure at 0x21b94f05278>"
      ]
     },
     "metadata": {},
     "output_type": "display_data"
    }
   ],
   "source": [
    "#let's plot the ordered mutual_info values per feature\n",
    "import matplotlib.pyplot as plot\n",
    "IGR.sort_values(ascending=True).plot.barh(figsize=(8, 6))"
   ]
  },
  {
   "cell_type": "markdown",
   "metadata": {},
   "source": [
    "# 特征相关性分析-互信息"
   ]
  },
  {
   "cell_type": "code",
   "execution_count": 7,
   "metadata": {},
   "outputs": [],
   "source": [
    "X_1 = data.drop(labels=['bug'], axis=1)\n",
    "y_1 = data['bug']"
   ]
  },
  {
   "cell_type": "code",
   "execution_count": 14,
   "metadata": {},
   "outputs": [
    {
     "data": {
      "text/plain": [
       "array([0.22751955, 0.19607155, 0.06505319, 0.13014143, 0.2117401 ,\n",
       "       0.21640965, 0.08991106, 0.20220318, 0.07380011, 0.08612961,\n",
       "       0.09887943, 0.14429658, 0.15987332, 0.10066734, 0.10245026,\n",
       "       0.10329423, 0.18031461, 0.17366823, 0.21076346, 0.21118543,\n",
       "       0.25980401])"
      ]
     },
     "execution_count": 14,
     "metadata": {},
     "output_type": "execute_result"
    }
   ],
   "source": [
    "from sklearn.feature_selection import mutual_info_classif\n",
    "# determine the mutual information\n",
    "mutual_info = mutual_info_classif(X_1, y_1)\n",
    "mutual_info"
   ]
  },
  {
   "cell_type": "code",
   "execution_count": 15,
   "metadata": {},
   "outputs": [
    {
     "data": {
      "text/plain": [
       "21    0.259804\n",
       "1     0.227520\n",
       "6     0.216410\n",
       "5     0.211740\n",
       "20    0.211185\n",
       "19    0.210763\n",
       "8     0.202203\n",
       "2     0.196072\n",
       "17    0.180315\n",
       "18    0.173668\n",
       "13    0.159873\n",
       "12    0.144297\n",
       "4     0.130141\n",
       "16    0.103294\n",
       "15    0.102450\n",
       "14    0.100667\n",
       "11    0.098879\n",
       "7     0.089911\n",
       "10    0.086130\n",
       "9     0.073800\n",
       "3     0.065053\n",
       "dtype: float64"
      ]
     },
     "execution_count": 15,
     "metadata": {},
     "output_type": "execute_result"
    }
   ],
   "source": [
    "mutual_info = pd.Series(mutual_info)\n",
    "mutual_info.index = X_1.columns\n",
    "mutual_info.sort_values(ascending=False)"
   ]
  },
  {
   "cell_type": "code",
   "execution_count": 16,
   "metadata": {},
   "outputs": [
    {
     "data": {
      "text/plain": [
       "<matplotlib.axes._subplots.AxesSubplot at 0x21b960596a0>"
      ]
     },
     "execution_count": 16,
     "metadata": {},
     "output_type": "execute_result"
    },
    {
     "data": {
      "image/png": "[encoded data removed]",
      "text/plain": [
       "<matplotlib.figure.Figure at 0x21b95fa8fd0>"
      ]
     },
     "metadata": {},
     "output_type": "display_data"
    }
   ],
   "source": [
    "#let's plot the ordered mutual_info values per feature\n",
    "import matplotlib.pyplot as plot\n",
    "mutual_info.sort_values(ascending=True).plot.barh(figsize=(8, 6))"
   ]
  },
  {
   "cell_type": "markdown",
   "metadata": {},
   "source": [
    "# 特征相关性分析-卡方值"
   ]
  },
  {
   "cell_type": "code",
   "execution_count": 17,
   "metadata": {},
   "outputs": [
    {
     "data": {
      "text/plain": [
       "(array([ 7.69767244, 11.26124311,  5.76129473,  7.80364851, 10.33263003,\n",
       "         8.78495352, 14.99046987,  7.10384263, 11.00010323,  6.68346669,\n",
       "         2.47424529,  8.37602221,  9.75100819, 33.74142225,  2.47424222,\n",
       "         8.37642771, 10.98719974,  9.01848255,  7.76407881,  2.51402095,\n",
       "        10.29296124]),\n",
       " array([5.52920808e-03, 7.91421928e-04, 1.63829952e-02, 5.21408485e-03,\n",
       "        1.30698836e-03, 3.03725304e-03, 1.08055502e-04, 7.69188744e-03,\n",
       "        9.11068133e-04, 9.73111892e-03, 1.15724979e-01, 3.80203650e-03,\n",
       "        1.79224395e-03, 6.29459842e-09, 1.15725206e-01, 3.80118831e-03,\n",
       "        9.17433244e-04, 2.67263180e-03, 5.32954708e-03, 1.12837693e-01,\n",
       "        1.33538614e-03]))"
      ]
     },
     "execution_count": 17,
     "metadata": {},
     "output_type": "execute_result"
    }
   ],
   "source": [
    "from sklearn.feature_selection import chi2\n",
    "f_p_values=chi2(X_1,y_1)\n",
    "f_p_values"
   ]
  },
  {
   "cell_type": "code",
   "execution_count": 19,
   "metadata": {},
   "outputs": [
    {
     "data": {
      "text/plain": [
       "1     5.529208e-03\n",
       "2     7.914219e-04\n",
       "3     1.638300e-02\n",
       "4     5.214085e-03\n",
       "5     1.306988e-03\n",
       "6     3.037253e-03\n",
       "7     1.080555e-04\n",
       "8     7.691887e-03\n",
       "9     9.110681e-04\n",
       "10    9.731119e-03\n",
       "11    1.157250e-01\n",
       "12    3.802037e-03\n",
       "13    1.792244e-03\n",
       "14    6.294598e-09\n",
       "15    1.157252e-01\n",
       "16    3.801188e-03\n",
       "17    9.174332e-04\n",
       "18    2.672632e-03\n",
       "19    5.329547e-03\n",
       "20    1.128377e-01\n",
       "21    1.335386e-03\n",
       "dtype: float64"
      ]
     },
     "execution_count": 19,
     "metadata": {},
     "output_type": "execute_result"
    }
   ],
   "source": [
    "import pandas as pd\n",
    "p_values=pd.Series(f_p_values[1])\n",
    "p_values.index=X_1.columns\n",
    "p_values"
   ]
  },
  {
   "cell_type": "code",
   "execution_count": 20,
   "metadata": {},
   "outputs": [
    {
     "data": {
      "text/plain": [
       "9     9.110681e-04\n",
       "8     7.691887e-03\n",
       "7     1.080555e-04\n",
       "6     3.037253e-03\n",
       "5     1.306988e-03\n",
       "4     5.214085e-03\n",
       "3     1.638300e-02\n",
       "21    1.335386e-03\n",
       "20    1.128377e-01\n",
       "2     7.914219e-04\n",
       "19    5.329547e-03\n",
       "18    2.672632e-03\n",
       "17    9.174332e-04\n",
       "16    3.801188e-03\n",
       "15    1.157252e-01\n",
       "14    6.294598e-09\n",
       "13    1.792244e-03\n",
       "12    3.802037e-03\n",
       "11    1.157250e-01\n",
       "10    9.731119e-03\n",
       "1     5.529208e-03\n",
       "dtype: float64"
      ]
     },
     "execution_count": 20,
     "metadata": {},
     "output_type": "execute_result"
    }
   ],
   "source": [
    "p_values.sort_index(ascending=False)"
   ]
  },
  {
   "cell_type": "markdown",
   "metadata": {},
   "source": [
    "# --------------------------------------------------------------------------------------------"
   ]
  },
  {
   "cell_type": "code",
   "execution_count": 8,
   "metadata": {},
   "outputs": [],
   "source": [
    "del data['3']\n",
    "del data['7']\n",
    "del data['14']"
   ]
  },
  {
   "cell_type": "code",
   "execution_count": 9,
   "metadata": {},
   "outputs": [
    {
     "data": {
      "text/html": [
       "<div>\n",
       "<style scoped>\n",
       "    .dataframe tbody tr th:only-of-type {\n",
       "        vertical-align: middle;\n",
       "    }\n",
       "\n",
       "    .dataframe tbody tr th {\n",
       "        vertical-align: top;\n",
       "    }\n",
       "\n",
       "    .dataframe thead th {\n",
       "        text-align: right;\n",
       "    }\n",
       "</style>\n",
       "<table border=\"1\" class=\"dataframe\">\n",
       "  <thead>\n",
       "    <tr style=\"text-align: right;\">\n",
       "      <th></th>\n",
       "      <th>1</th>\n",
       "      <th>2</th>\n",
       "      <th>4</th>\n",
       "      <th>5</th>\n",
       "      <th>6</th>\n",
       "      <th>8</th>\n",
       "      <th>9</th>\n",
       "      <th>10</th>\n",
       "      <th>11</th>\n",
       "      <th>12</th>\n",
       "      <th>13</th>\n",
       "      <th>15</th>\n",
       "      <th>16</th>\n",
       "      <th>17</th>\n",
       "      <th>18</th>\n",
       "      <th>19</th>\n",
       "      <th>20</th>\n",
       "      <th>21</th>\n",
       "      <th>bug</th>\n",
       "    </tr>\n",
       "  </thead>\n",
       "  <tbody>\n",
       "    <tr>\n",
       "      <th>0</th>\n",
       "      <td>0.000000</td>\n",
       "      <td>0.000000</td>\n",
       "      <td>0.000000</td>\n",
       "      <td>0.000000</td>\n",
       "      <td>0.000000</td>\n",
       "      <td>0.001415</td>\n",
       "      <td>0.013493</td>\n",
       "      <td>0.003581</td>\n",
       "      <td>9.999995e-07</td>\n",
       "      <td>0.000000</td>\n",
       "      <td>0.000592</td>\n",
       "      <td>9.999995e-07</td>\n",
       "      <td>0.000144</td>\n",
       "      <td>0.000662</td>\n",
       "      <td>0.000554</td>\n",
       "      <td>0.001947</td>\n",
       "      <td>0.007272</td>\n",
       "      <td>0.000872</td>\n",
       "      <td>0.0</td>\n",
       "    </tr>\n",
       "    <tr>\n",
       "      <th>1</th>\n",
       "      <td>0.019934</td>\n",
       "      <td>0.008397</td>\n",
       "      <td>0.004977</td>\n",
       "      <td>0.007389</td>\n",
       "      <td>0.008045</td>\n",
       "      <td>0.012789</td>\n",
       "      <td>0.093148</td>\n",
       "      <td>0.048741</td>\n",
       "      <td>7.880543e-04</td>\n",
       "      <td>0.014309</td>\n",
       "      <td>0.023787</td>\n",
       "      <td>7.880543e-04</td>\n",
       "      <td>0.014307</td>\n",
       "      <td>0.025440</td>\n",
       "      <td>0.022865</td>\n",
       "      <td>0.033092</td>\n",
       "      <td>0.044076</td>\n",
       "      <td>0.014090</td>\n",
       "      <td>1.0</td>\n",
       "    </tr>\n",
       "    <tr>\n",
       "      <th>2</th>\n",
       "      <td>0.000000</td>\n",
       "      <td>0.000000</td>\n",
       "      <td>0.000000</td>\n",
       "      <td>0.000000</td>\n",
       "      <td>0.000000</td>\n",
       "      <td>0.000000</td>\n",
       "      <td>0.000000</td>\n",
       "      <td>0.000000</td>\n",
       "      <td>0.000000e+00</td>\n",
       "      <td>0.000000</td>\n",
       "      <td>0.000000</td>\n",
       "      <td>0.000000e+00</td>\n",
       "      <td>0.000000</td>\n",
       "      <td>0.000000</td>\n",
       "      <td>0.000000</td>\n",
       "      <td>0.000000</td>\n",
       "      <td>0.000000</td>\n",
       "      <td>0.001742</td>\n",
       "      <td>1.0</td>\n",
       "    </tr>\n",
       "    <tr>\n",
       "      <th>3</th>\n",
       "      <td>0.000000</td>\n",
       "      <td>0.002421</td>\n",
       "      <td>0.000000</td>\n",
       "      <td>0.002130</td>\n",
       "      <td>0.000000</td>\n",
       "      <td>0.003182</td>\n",
       "      <td>0.017002</td>\n",
       "      <td>0.019723</td>\n",
       "      <td>2.199976e-05</td>\n",
       "      <td>0.001112</td>\n",
       "      <td>0.002603</td>\n",
       "      <td>2.199976e-05</td>\n",
       "      <td>0.001006</td>\n",
       "      <td>0.001654</td>\n",
       "      <td>0.003132</td>\n",
       "      <td>0.002920</td>\n",
       "      <td>0.024040</td>\n",
       "      <td>0.002902</td>\n",
       "      <td>0.0</td>\n",
       "    </tr>\n",
       "    <tr>\n",
       "      <th>4</th>\n",
       "      <td>0.004464</td>\n",
       "      <td>0.007247</td>\n",
       "      <td>0.000000</td>\n",
       "      <td>0.006377</td>\n",
       "      <td>0.007453</td>\n",
       "      <td>0.008111</td>\n",
       "      <td>0.052846</td>\n",
       "      <td>0.026942</td>\n",
       "      <td>1.299916e-04</td>\n",
       "      <td>0.004443</td>\n",
       "      <td>0.008259</td>\n",
       "      <td>1.299916e-04</td>\n",
       "      <td>0.004358</td>\n",
       "      <td>0.010210</td>\n",
       "      <td>0.007170</td>\n",
       "      <td>0.018350</td>\n",
       "      <td>0.033496</td>\n",
       "      <td>0.007816</td>\n",
       "      <td>0.0</td>\n",
       "    </tr>\n",
       "  </tbody>\n",
       "</table>\n",
       "</div>"
      ],
      "text/plain": [
       "          1         2         4         5         6         8         9  \\\n",
       "0  0.000000  0.000000  0.000000  0.000000  0.000000  0.001415  0.013493   \n",
       "1  0.019934  0.008397  0.004977  0.007389  0.008045  0.012789  0.093148   \n",
       "2  0.000000  0.000000  0.000000  0.000000  0.000000  0.000000  0.000000   \n",
       "3  0.000000  0.002421  0.000000  0.002130  0.000000  0.003182  0.017002   \n",
       "4  0.004464  0.007247  0.000000  0.006377  0.007453  0.008111  0.052846   \n",
       "\n",
       "         10            11        12        13            15        16  \\\n",
       "0  0.003581  9.999995e-07  0.000000  0.000592  9.999995e-07  0.000144   \n",
       "1  0.048741  7.880543e-04  0.014309  0.023787  7.880543e-04  0.014307   \n",
       "2  0.000000  0.000000e+00  0.000000  0.000000  0.000000e+00  0.000000   \n",
       "3  0.019723  2.199976e-05  0.001112  0.002603  2.199976e-05  0.001006   \n",
       "4  0.026942  1.299916e-04  0.004443  0.008259  1.299916e-04  0.004358   \n",
       "\n",
       "         17        18        19        20        21  bug  \n",
       "0  0.000662  0.000554  0.001947  0.007272  0.000872  0.0  \n",
       "1  0.025440  0.022865  0.033092  0.044076  0.014090  1.0  \n",
       "2  0.000000  0.000000  0.000000  0.000000  0.001742  1.0  \n",
       "3  0.001654  0.003132  0.002920  0.024040  0.002902  0.0  \n",
       "4  0.010210  0.007170  0.018350  0.033496  0.007816  0.0  "
      ]
     },
     "execution_count": 9,
     "metadata": {},
     "output_type": "execute_result"
    }
   ],
   "source": [
    "data.head()"
   ]
  },
  {
   "cell_type": "code",
   "execution_count": 10,
   "metadata": {},
   "outputs": [],
   "source": [
    "X = data.drop(labels=['bug'], axis=1)\n",
    "y = data['bug']"
   ]
  },
  {
   "cell_type": "markdown",
   "metadata": {},
   "source": [
    "# 特征相关性分析阶段"
   ]
  },
  {
   "cell_type": "code",
   "execution_count": 11,
   "metadata": {},
   "outputs": [],
   "source": [
    "#importing libraries\n",
    "from sklearn.datasets import load_boston\n",
    "import pandas as pd\n",
    "import matplotlib.pyplot as plt"
   ]
  },
  {
   "cell_type": "code",
   "execution_count": 12,
   "metadata": {},
   "outputs": [],
   "source": [
    "#Symmetrical Uncertainty\n",
    "#entropy\n",
    "from scipy.stats import entropy\n",
    "import numpy as np\n",
    "#Joint Entropy\n",
    "def jEntropy(Y,X):\n",
    "    YX = np.c_[Y,X]\n",
    "    return entropy(YX)\n",
    "\n",
    "#conditional entropy\n",
    "def cEntropy(Y, X):\n",
    "    return jEntropy(Y, X) - entropy(X)\n",
    "\n",
    "#SU\n",
    "def symmetricalUncertain(Y,X):\n",
    "    n = float(y.shape[0])\n",
    "    vals = np.unique(Y)\n",
    "    # Computing Entropy for the feature x. \n",
    "    Hx = entropy(X)\n",
    "    # Computing Entropy for the feature y.\n",
    "    Hy = entropy(Y)\n",
    "    #Computing Joint entropy between x and y.\n",
    "    Hxy = jEntropy(Y,X)\n",
    "    IG = Hx-Hxy\n",
    "    return 2*IG/(Hx+Hy)"
   ]
  },
  {
   "cell_type": "code",
   "execution_count": 45,
   "metadata": {},
   "outputs": [
    {
     "name": "stdout",
     "output_type": "stream",
     "text": [
      "[7.377487584029819e-15, 7.380029914043255e-15, 7.7609105795403e-15, 7.396507408889684e-15, 7.479058192754908e-15, 7.372569808643253e-15, 7.183308970534568e-15, 7.213836967135274e-15, 8.477328424389014e-15, 7.513068011805662e-15, 7.397661565366375e-15, 8.477327407574802e-15, 7.512834403592938e-15, 7.400137103892548e-15, 7.399096548592291e-15, 7.25179647310575e-15, 7.112202689418225e-15, 7.266497217557525e-15]\n"
     ]
    }
   ],
   "source": [
    "top_n1 =[]\n",
    "for i in X.columns.values:\n",
    "    X[i]=X[i].astype('float64')\n",
    "    top_n1.append(symmetricalUncertain(X[i],X[\"18\"]))\n",
    "# print (top_n1)\n",
    "top_n2=[row[1] for row in top_n1]\n",
    "print (top_n2)\n",
    "\n",
    "col_name1 = np.array(X.columns)\n",
    "a1 = pd.DataFrame(top_n2)\n",
    "b1 = pd.DataFrame(col_name1)\n",
    "info3 = pd.concat([a1,b1], axis=1)\n",
    "info3.columns = ['Score','Features']\n",
    "# info3"
   ]
  },
  {
   "cell_type": "code",
   "execution_count": 46,
   "metadata": {},
   "outputs": [
    {
     "data": {
      "text/plain": [
       "11    8.477328e-15\n",
       "15    8.477327e-15\n",
       "4     7.760911e-15\n",
       "12    7.513068e-15\n",
       "16    7.512834e-15\n",
       "6     7.479058e-15\n",
       "17    7.400137e-15\n",
       "18    7.399097e-15\n",
       "13    7.397662e-15\n",
       "5     7.396507e-15\n",
       "2     7.380030e-15\n",
       "1     7.377488e-15\n",
       "8     7.372570e-15\n",
       "21    7.266497e-15\n",
       "19    7.251796e-15\n",
       "10    7.213837e-15\n",
       "9     7.183309e-15\n",
       "20    7.112203e-15\n",
       "dtype: float64"
      ]
     },
     "execution_count": 46,
     "metadata": {},
     "output_type": "execute_result"
    }
   ],
   "source": [
    "SU = pd.Series(top_n2)\n",
    "SU.index = X.columns\n",
    "SU.sort_values(ascending=False)"
   ]
  },
  {
   "cell_type": "code",
   "execution_count": 40,
   "metadata": {},
   "outputs": [
    {
     "data": {
      "text/html": [
       "<div>\n",
       "<style scoped>\n",
       "    .dataframe tbody tr th:only-of-type {\n",
       "        vertical-align: middle;\n",
       "    }\n",
       "\n",
       "    .dataframe tbody tr th {\n",
       "        vertical-align: top;\n",
       "    }\n",
       "\n",
       "    .dataframe thead th {\n",
       "        text-align: right;\n",
       "    }\n",
       "</style>\n",
       "<table border=\"1\" class=\"dataframe\">\n",
       "  <thead>\n",
       "    <tr style=\"text-align: right;\">\n",
       "      <th></th>\n",
       "      <th>1</th>\n",
       "      <th>2</th>\n",
       "      <th>4</th>\n",
       "      <th>7</th>\n",
       "      <th>11</th>\n",
       "      <th>12</th>\n",
       "      <th>15</th>\n",
       "      <th>17</th>\n",
       "      <th>21</th>\n",
       "      <th>bug</th>\n",
       "    </tr>\n",
       "  </thead>\n",
       "  <tbody>\n",
       "    <tr>\n",
       "      <th>0</th>\n",
       "      <td>1.609438</td>\n",
       "      <td>0.693147</td>\n",
       "      <td>0.693147</td>\n",
       "      <td>0.512824</td>\n",
       "      <td>0.000000</td>\n",
       "      <td>0.512824</td>\n",
       "      <td>0.000000</td>\n",
       "      <td>1.386294</td>\n",
       "      <td>0.693147</td>\n",
       "      <td>0.0</td>\n",
       "    </tr>\n",
       "    <tr>\n",
       "      <th>1</th>\n",
       "      <td>3.440424</td>\n",
       "      <td>0.845543</td>\n",
       "      <td>0.782293</td>\n",
       "      <td>0.098336</td>\n",
       "      <td>0.078987</td>\n",
       "      <td>4.956367</td>\n",
       "      <td>1.233898</td>\n",
       "      <td>2.502505</td>\n",
       "      <td>2.190275</td>\n",
       "      <td>1.0</td>\n",
       "    </tr>\n",
       "    <tr>\n",
       "      <th>2</th>\n",
       "      <td>3.395635</td>\n",
       "      <td>1.386294</td>\n",
       "      <td>1.386294</td>\n",
       "      <td>0.079520</td>\n",
       "      <td>0.110839</td>\n",
       "      <td>5.463206</td>\n",
       "      <td>0.986052</td>\n",
       "      <td>2.604675</td>\n",
       "      <td>1.791759</td>\n",
       "      <td>1.0</td>\n",
       "    </tr>\n",
       "    <tr>\n",
       "      <th>3</th>\n",
       "      <td>2.890372</td>\n",
       "      <td>1.098612</td>\n",
       "      <td>1.098612</td>\n",
       "      <td>0.113329</td>\n",
       "      <td>0.048790</td>\n",
       "      <td>4.214643</td>\n",
       "      <td>0.693147</td>\n",
       "      <td>2.397895</td>\n",
       "      <td>1.386294</td>\n",
       "      <td>0.0</td>\n",
       "    </tr>\n",
       "    <tr>\n",
       "      <th>4</th>\n",
       "      <td>1.098612</td>\n",
       "      <td>0.693147</td>\n",
       "      <td>0.693147</td>\n",
       "      <td>0.693147</td>\n",
       "      <td>0.000000</td>\n",
       "      <td>0.231112</td>\n",
       "      <td>0.000000</td>\n",
       "      <td>1.098612</td>\n",
       "      <td>0.693147</td>\n",
       "      <td>0.0</td>\n",
       "    </tr>\n",
       "  </tbody>\n",
       "</table>\n",
       "</div>"
      ],
      "text/plain": [
       "          1         2         4         7        11        12        15  \\\n",
       "0  1.609438  0.693147  0.693147  0.512824  0.000000  0.512824  0.000000   \n",
       "1  3.440424  0.845543  0.782293  0.098336  0.078987  4.956367  1.233898   \n",
       "2  3.395635  1.386294  1.386294  0.079520  0.110839  5.463206  0.986052   \n",
       "3  2.890372  1.098612  1.098612  0.113329  0.048790  4.214643  0.693147   \n",
       "4  1.098612  0.693147  0.693147  0.693147  0.000000  0.231112  0.000000   \n",
       "\n",
       "         17        21  bug  \n",
       "0  1.386294  0.693147  0.0  \n",
       "1  2.502505  2.190275  1.0  \n",
       "2  2.604675  1.791759  1.0  \n",
       "3  2.397895  1.386294  0.0  \n",
       "4  1.098612  0.693147  0.0  "
      ]
     },
     "execution_count": 40,
     "metadata": {},
     "output_type": "execute_result"
    }
   ],
   "source": [
    "corr_features = [\"6\",\"5\",\"8\",\"9\",\"20\",\"18\",\"19\",\"10\",\"13\"]\n",
    "data2=data.drop(corr_features,axis=1)\n",
    "data2.head()"
   ]
  },
  {
   "cell_type": "code",
   "execution_count": 41,
   "metadata": {},
   "outputs": [
    {
     "data": {
      "text/plain": [
       "((650, 9), (279, 9))"
      ]
     },
     "execution_count": 41,
     "metadata": {},
     "output_type": "execute_result"
    }
   ],
   "source": [
    "# separate dataset into train and test\n",
    "from sklearn.model_selection import train_test_split\n",
    "X_train, X_test, y_train, y_test = train_test_split(\n",
    "    data2.drop(\"bug\",axis=1),\n",
    "    data2[\"bug\"],\n",
    "    test_size=0.3,\n",
    "    random_state=0)\n",
    "\n",
    "X_train.shape, X_test.shape"
   ]
  },
  {
   "cell_type": "code",
   "execution_count": 45,
   "metadata": {},
   "outputs": [
    {
     "name": "stdout",
     "output_type": "stream",
     "text": [
      "0.7588652482269502\n",
      "0.7562435765673176\n"
     ]
    }
   ],
   "source": [
    "from sklearn.svm import SVC, LinearSVC\n",
    "from sklearn.metrics import f1_score,roc_auc_score\n",
    "SVM = LinearSVC()\n",
    "SVM.fit(X_train, y_train)\n",
    "y_pred = SVM.predict(X_test)\n",
    "#SVM.score(X_test,y_test)\n",
    "f1_score1 = f1_score(y_test,y_pred)\n",
    "roc_auc_score1 = roc_auc_score(y_test,y_pred)\n",
    "print(f1_score1)\n",
    "print(roc_auc_score1)"
   ]
  }
 ],
 "metadata": {
  "kernelspec": {
   "display_name": "Python 3",
   "language": "python",
   "name": "python3"
  },
  "language_info": {
   "codemirror_mode": {
    "name": "ipython",
    "version": 3
   },
   "file_extension": ".py",
   "mimetype": "text/x-python",
   "name": "python",
   "nbconvert_exporter": "python",
   "pygments_lexer": "ipython3",
   "version": "3.6.4"
  }
 },
 "nbformat": 4,
 "nbformat_minor": 2
}
