{
 "cells": [
  {
   "cell_type": "markdown",
   "metadata": {},
   "source": [
    "# 特征相关性分析-信息增益率"
   ]
  },
  {
   "cell_type": "code",
   "execution_count": 1,
   "metadata": {},
   "outputs": [],
   "source": [
    "import pandas as pd\n",
    "import numpy as np\n",
    "#定义计算信息熵的函数：计算Infor(D)\n",
    "def infor(data):\n",
    "    a = pd.value_counts(data) / len(data)\n",
    "    return sum(np.log2(a) * a * (-1))"
   ]
  },
  {
   "cell_type": "code",
   "execution_count": 2,
   "metadata": {},
   "outputs": [],
   "source": [
    "#定义计算信息增益的函数：计算g(D|A)\n",
    "def g(data,str1,str2):\n",
    "    e1 = data.groupby(str1).apply(lambda x:infor(x[str2]))\n",
    "    p1 = pd.value_counts(data[str1]) / len(data[str1])\n",
    "    #计算Infor(D|A)\n",
    "    e2 = sum(e1 * p1)\n",
    "    return infor(data[str2]) - e2"
   ]
  },
  {
   "cell_type": "code",
   "execution_count": 3,
   "metadata": {},
   "outputs": [],
   "source": [
    "#定义计算信息增益率的函数：计算gr(D,A)\n",
    "def gr(data,str1,str2):\n",
    "    return g(data,str1,str2)/infor(data[str1])"
   ]
  },
  {
   "cell_type": "code",
   "execution_count": 4,
   "metadata": {},
   "outputs": [
    {
     "data": {
      "text/html": [
       "<div>\n",
       "<style scoped>\n",
       "    .dataframe tbody tr th:only-of-type {\n",
       "        vertical-align: middle;\n",
       "    }\n",
       "\n",
       "    .dataframe tbody tr th {\n",
       "        vertical-align: top;\n",
       "    }\n",
       "\n",
       "    .dataframe thead th {\n",
       "        text-align: right;\n",
       "    }\n",
       "</style>\n",
       "<table border=\"1\" class=\"dataframe\">\n",
       "  <thead>\n",
       "    <tr style=\"text-align: right;\">\n",
       "      <th></th>\n",
       "      <th>1</th>\n",
       "      <th>2</th>\n",
       "      <th>3</th>\n",
       "      <th>4</th>\n",
       "      <th>5</th>\n",
       "      <th>6</th>\n",
       "      <th>7</th>\n",
       "      <th>8</th>\n",
       "      <th>9</th>\n",
       "      <th>10</th>\n",
       "      <th>...</th>\n",
       "      <th>13</th>\n",
       "      <th>14</th>\n",
       "      <th>15</th>\n",
       "      <th>16</th>\n",
       "      <th>17</th>\n",
       "      <th>18</th>\n",
       "      <th>19</th>\n",
       "      <th>20</th>\n",
       "      <th>21</th>\n",
       "      <th>bug</th>\n",
       "    </tr>\n",
       "  </thead>\n",
       "  <tbody>\n",
       "    <tr>\n",
       "      <th>0</th>\n",
       "      <td>4.693440</td>\n",
       "      <td>2.858425</td>\n",
       "      <td>2.736421</td>\n",
       "      <td>2.503050</td>\n",
       "      <td>5.727662</td>\n",
       "      <td>7.502298</td>\n",
       "      <td>0.031749</td>\n",
       "      <td>3.407067</td>\n",
       "      <td>4.144955</td>\n",
       "      <td>10.874792</td>\n",
       "      <td>...</td>\n",
       "      <td>4.523758</td>\n",
       "      <td>1.321084</td>\n",
       "      <td>2.505478</td>\n",
       "      <td>0.536029</td>\n",
       "      <td>3.004228</td>\n",
       "      <td>3.734673</td>\n",
       "      <td>5.208262</td>\n",
       "      <td>4.832067</td>\n",
       "      <td>3.492434</td>\n",
       "      <td>1.0</td>\n",
       "    </tr>\n",
       "    <tr>\n",
       "      <th>1</th>\n",
       "      <td>4.766487</td>\n",
       "      <td>2.956562</td>\n",
       "      <td>2.840137</td>\n",
       "      <td>2.590101</td>\n",
       "      <td>5.838405</td>\n",
       "      <td>7.602190</td>\n",
       "      <td>0.040380</td>\n",
       "      <td>3.144838</td>\n",
       "      <td>4.511866</td>\n",
       "      <td>10.702564</td>\n",
       "      <td>...</td>\n",
       "      <td>4.639566</td>\n",
       "      <td>1.217420</td>\n",
       "      <td>2.289823</td>\n",
       "      <td>0.000000</td>\n",
       "      <td>2.723211</td>\n",
       "      <td>3.792395</td>\n",
       "      <td>5.336091</td>\n",
       "      <td>4.915751</td>\n",
       "      <td>3.596281</td>\n",
       "      <td>1.0</td>\n",
       "    </tr>\n",
       "    <tr>\n",
       "      <th>2</th>\n",
       "      <td>4.158883</td>\n",
       "      <td>2.397895</td>\n",
       "      <td>1.609438</td>\n",
       "      <td>1.791759</td>\n",
       "      <td>5.062595</td>\n",
       "      <td>6.722401</td>\n",
       "      <td>0.048790</td>\n",
       "      <td>2.954910</td>\n",
       "      <td>3.841386</td>\n",
       "      <td>9.622682</td>\n",
       "      <td>...</td>\n",
       "      <td>4.025352</td>\n",
       "      <td>1.098612</td>\n",
       "      <td>1.609438</td>\n",
       "      <td>0.000000</td>\n",
       "      <td>2.708050</td>\n",
       "      <td>3.258097</td>\n",
       "      <td>4.532599</td>\n",
       "      <td>4.189655</td>\n",
       "      <td>2.995732</td>\n",
       "      <td>0.0</td>\n",
       "    </tr>\n",
       "    <tr>\n",
       "      <th>3</th>\n",
       "      <td>1.791759</td>\n",
       "      <td>0.693147</td>\n",
       "      <td>0.693147</td>\n",
       "      <td>0.693147</td>\n",
       "      <td>1.791759</td>\n",
       "      <td>2.534490</td>\n",
       "      <td>0.512824</td>\n",
       "      <td>0.916291</td>\n",
       "      <td>2.167910</td>\n",
       "      <td>2.912894</td>\n",
       "      <td>...</td>\n",
       "      <td>1.098612</td>\n",
       "      <td>0.000000</td>\n",
       "      <td>0.000000</td>\n",
       "      <td>0.000000</td>\n",
       "      <td>1.386294</td>\n",
       "      <td>1.098612</td>\n",
       "      <td>1.386294</td>\n",
       "      <td>1.098612</td>\n",
       "      <td>0.693147</td>\n",
       "      <td>0.0</td>\n",
       "    </tr>\n",
       "    <tr>\n",
       "      <th>4</th>\n",
       "      <td>4.807068</td>\n",
       "      <td>2.840650</td>\n",
       "      <td>2.194348</td>\n",
       "      <td>2.617507</td>\n",
       "      <td>5.836210</td>\n",
       "      <td>7.633333</td>\n",
       "      <td>0.044379</td>\n",
       "      <td>3.187551</td>\n",
       "      <td>4.498615</td>\n",
       "      <td>10.778277</td>\n",
       "      <td>...</td>\n",
       "      <td>4.602952</td>\n",
       "      <td>1.373985</td>\n",
       "      <td>2.692523</td>\n",
       "      <td>1.418102</td>\n",
       "      <td>2.863139</td>\n",
       "      <td>3.929869</td>\n",
       "      <td>5.306996</td>\n",
       "      <td>4.951897</td>\n",
       "      <td>3.472963</td>\n",
       "      <td>1.0</td>\n",
       "    </tr>\n",
       "  </tbody>\n",
       "</table>\n",
       "<p>5 rows × 22 columns</p>\n",
       "</div>"
      ],
      "text/plain": [
       "          1         2         3         4         5         6         7  \\\n",
       "0  4.693440  2.858425  2.736421  2.503050  5.727662  7.502298  0.031749   \n",
       "1  4.766487  2.956562  2.840137  2.590101  5.838405  7.602190  0.040380   \n",
       "2  4.158883  2.397895  1.609438  1.791759  5.062595  6.722401  0.048790   \n",
       "3  1.791759  0.693147  0.693147  0.693147  1.791759  2.534490  0.512824   \n",
       "4  4.807068  2.840650  2.194348  2.617507  5.836210  7.633333  0.044379   \n",
       "\n",
       "          8         9         10 ...         13        14        15        16  \\\n",
       "0  3.407067  4.144955  10.874792 ...   4.523758  1.321084  2.505478  0.536029   \n",
       "1  3.144838  4.511866  10.702564 ...   4.639566  1.217420  2.289823  0.000000   \n",
       "2  2.954910  3.841386   9.622682 ...   4.025352  1.098612  1.609438  0.000000   \n",
       "3  0.916291  2.167910   2.912894 ...   1.098612  0.000000  0.000000  0.000000   \n",
       "4  3.187551  4.498615  10.778277 ...   4.602952  1.373985  2.692523  1.418102   \n",
       "\n",
       "         17        18        19        20        21  bug  \n",
       "0  3.004228  3.734673  5.208262  4.832067  3.492434  1.0  \n",
       "1  2.723211  3.792395  5.336091  4.915751  3.596281  1.0  \n",
       "2  2.708050  3.258097  4.532599  4.189655  2.995732  0.0  \n",
       "3  1.386294  1.098612  1.386294  1.098612  0.693147  0.0  \n",
       "4  2.863139  3.929869  5.306996  4.951897  3.472963  1.0  \n",
       "\n",
       "[5 rows x 22 columns]"
      ]
     },
     "execution_count": 4,
     "metadata": {},
     "output_type": "execute_result"
    }
   ],
   "source": [
    "data=pd.read_csv('kc2_2.csv')\n",
    "data.columns = [\"1\", \"2\", \"3\", \"4\",\"5\",\"6\",\"7\",\"8\",\"9\",\"10\",\"11\",\"12\",\"13\",\"14\",\"15\",\"16\",\"17\",\"18\",\"19\",\"20\",\"21\",\"bug\"]\n",
    "data.head()"
   ]
  },
  {
   "cell_type": "code",
   "execution_count": 5,
   "metadata": {},
   "outputs": [
    {
     "data": {
      "text/plain": [
       "array([1., 0.])"
      ]
     },
     "execution_count": 5,
     "metadata": {},
     "output_type": "execute_result"
    }
   ],
   "source": [
    "data['bug'].unique()"
   ]
  },
  {
   "cell_type": "code",
   "execution_count": 6,
   "metadata": {},
   "outputs": [
    {
     "name": "stdout",
     "output_type": "stream",
     "text": [
      "[0.12422222588834658, 0.10701278396797113, 0.08659579892968074, 0.11090595554257432, 0.1266351677104686, 0.1263653529314435, 0.11863930474465023, 0.12853100630539155, 0.12308144754613483, 0.12408490866803626, 0.12253124085037846, 0.12408490866803626, 0.12654497630453174, 0.09402502889665974, 0.12000468276462124, 0.07550691204553285, 0.10491716305177497, 0.11592976077935281, 0.12405683192703687, 0.12140487766362568, 0.10636921743181249]\n"
     ]
    }
   ],
   "source": [
    "features = [\"1\", \"2\", \"3\", \"4\",\"5\",\"6\",\"7\",\"8\",\"9\",\"10\",\"11\",\"12\",\"13\",\"14\",\"15\",\"16\",\"17\",\"18\",\"19\",\"20\",\"21\"]\n",
    "lists = []\n",
    "for feature in features:\n",
    "    lists.append(gr(data,feature,'bug'))\n",
    "print(lists)"
   ]
  },
  {
   "cell_type": "code",
   "execution_count": 7,
   "metadata": {},
   "outputs": [],
   "source": [
    "data1 = data.drop(labels=['bug'],axis=1)"
   ]
  },
  {
   "cell_type": "code",
   "execution_count": 8,
   "metadata": {},
   "outputs": [
    {
     "data": {
      "text/plain": [
       "8     0.128531\n",
       "5     0.126635\n",
       "13    0.126545\n",
       "6     0.126365\n",
       "1     0.124222\n",
       "12    0.124085\n",
       "10    0.124085\n",
       "19    0.124057\n",
       "9     0.123081\n",
       "11    0.122531\n",
       "20    0.121405\n",
       "15    0.120005\n",
       "7     0.118639\n",
       "18    0.115930\n",
       "4     0.110906\n",
       "2     0.107013\n",
       "21    0.106369\n",
       "17    0.104917\n",
       "14    0.094025\n",
       "3     0.086596\n",
       "16    0.075507\n",
       "dtype: float64"
      ]
     },
     "execution_count": 8,
     "metadata": {},
     "output_type": "execute_result"
    }
   ],
   "source": [
    "IGR = pd.Series(lists)\n",
    "IGR.index = data1.columns\n",
    "IGR.sort_values(ascending=False)"
   ]
  },
  {
   "cell_type": "code",
   "execution_count": 10,
   "metadata": {},
   "outputs": [
    {
     "data": {
      "text/plain": [
       "<matplotlib.axes._subplots.AxesSubplot at 0x2b358a91cf8>"
      ]
     },
     "execution_count": 10,
     "metadata": {},
     "output_type": "execute_result"
    },
    {
     "data": {
      "image/png": "[encoded data removed]",
      "text/plain": [
       "<matplotlib.figure.Figure at 0x2b358aae048>"
      ]
     },
     "metadata": {},
     "output_type": "display_data"
    }
   ],
   "source": [
    "#let's plot the ordered mutual_info values per feature\n",
    "import matplotlib.pyplot as plot\n",
    "IGR.sort_values(ascending=True).plot.barh(figsize=(8, 6))"
   ]
  },
  {
   "cell_type": "markdown",
   "metadata": {},
   "source": [
    "# 特征相关性分析-互信息"
   ]
  },
  {
   "cell_type": "code",
   "execution_count": 6,
   "metadata": {},
   "outputs": [],
   "source": [
    "X_1 = data.drop(labels=['bug'], axis=1)\n",
    "y_1 = data['bug']"
   ]
  },
  {
   "cell_type": "code",
   "execution_count": 7,
   "metadata": {},
   "outputs": [
    {
     "data": {
      "text/plain": [
       "array([0.23931491, 0.22324674, 0.11026177, 0.19082758, 0.23151927,\n",
       "       0.22859191, 0.22100446, 0.20888694, 0.21019134, 0.26344047,\n",
       "       0.2218249 , 0.26495615, 0.21683353, 0.16947158, 0.21872465,\n",
       "       0.03146785, 0.24406312, 0.2496025 , 0.20318265, 0.19126189,\n",
       "       0.24428749])"
      ]
     },
     "execution_count": 7,
     "metadata": {},
     "output_type": "execute_result"
    }
   ],
   "source": [
    "from sklearn.feature_selection import mutual_info_classif\n",
    "# determine the mutual information\n",
    "mutual_info = mutual_info_classif(X_1, y_1)\n",
    "mutual_info"
   ]
  },
  {
   "cell_type": "code",
   "execution_count": 8,
   "metadata": {},
   "outputs": [
    {
     "data": {
      "text/plain": [
       "12    0.264956\n",
       "10    0.263440\n",
       "18    0.249603\n",
       "21    0.244287\n",
       "17    0.244063\n",
       "1     0.239315\n",
       "5     0.231519\n",
       "6     0.228592\n",
       "2     0.223247\n",
       "11    0.221825\n",
       "7     0.221004\n",
       "15    0.218725\n",
       "13    0.216834\n",
       "9     0.210191\n",
       "8     0.208887\n",
       "19    0.203183\n",
       "20    0.191262\n",
       "4     0.190828\n",
       "14    0.169472\n",
       "3     0.110262\n",
       "16    0.031468\n",
       "dtype: float64"
      ]
     },
     "execution_count": 8,
     "metadata": {},
     "output_type": "execute_result"
    }
   ],
   "source": [
    "mutual_info = pd.Series(mutual_info)\n",
    "mutual_info.index = X_1.columns\n",
    "mutual_info.sort_values(ascending=False)"
   ]
  },
  {
   "cell_type": "code",
   "execution_count": 15,
   "metadata": {},
   "outputs": [
    {
     "data": {
      "text/plain": [
       "<matplotlib.axes._subplots.AxesSubplot at 0x2b35ac3c0b8>"
      ]
     },
     "execution_count": 15,
     "metadata": {},
     "output_type": "execute_result"
    },
    {
     "data": {
      "image/png": "[encoded data removed]",
      "text/plain": [
       "<matplotlib.figure.Figure at 0x2b35ac4e048>"
      ]
     },
     "metadata": {},
     "output_type": "display_data"
    }
   ],
   "source": [
    "#let's plot the ordered mutual_info values per feature\n",
    "import matplotlib.pyplot as plot\n",
    "mutual_info.sort_values(ascending=True).plot.barh(figsize=(8, 6))"
   ]
  },
  {
   "cell_type": "markdown",
   "metadata": {},
   "source": [
    "# 特征相关性分析-卡方值"
   ]
  },
  {
   "cell_type": "code",
   "execution_count": 16,
   "metadata": {},
   "outputs": [
    {
     "data": {
      "text/plain": [
       "(array([ 65.88851769,  56.02452318,  29.67133558,  45.08256705,\n",
       "         79.81761269,  93.29277927,  19.20059121,  46.13295094,\n",
       "         33.73149237, 162.57483534,  29.49740218, 218.73727405,\n",
       "         86.90015238,  86.10442356, 130.31824414,  25.90140486,\n",
       "         19.01820882,  69.70897392,  84.30010853, 103.54793951,\n",
       "         74.84534934]),\n",
       " array([4.77163452e-16, 7.15726811e-14, 5.11861374e-08, 1.88899528e-11,\n",
       "        4.10616098e-19, 4.51034601e-22, 1.17676940e-05, 1.10494369e-11,\n",
       "        6.32681106e-09, 3.09816819e-37, 5.59917016e-08, 1.70537482e-49,\n",
       "        1.14140576e-20, 1.70680613e-20, 3.49075491e-30, 3.59307556e-07,\n",
       "        1.29476978e-05, 6.87326849e-17, 4.25091845e-20, 2.54168990e-24,\n",
       "        5.09068376e-18]))"
      ]
     },
     "execution_count": 16,
     "metadata": {},
     "output_type": "execute_result"
    }
   ],
   "source": [
    "from sklearn.feature_selection import chi2\n",
    "f_p_values=chi2(X_1,y_1)\n",
    "f_p_values"
   ]
  },
  {
   "cell_type": "code",
   "execution_count": 18,
   "metadata": {},
   "outputs": [
    {
     "data": {
      "text/plain": [
       "1     4.771635e-16\n",
       "2     7.157268e-14\n",
       "3     5.118614e-08\n",
       "4     1.888995e-11\n",
       "5     4.106161e-19\n",
       "6     4.510346e-22\n",
       "7     1.176769e-05\n",
       "8     1.104944e-11\n",
       "9     6.326811e-09\n",
       "10    3.098168e-37\n",
       "11    5.599170e-08\n",
       "12    1.705375e-49\n",
       "13    1.141406e-20\n",
       "14    1.706806e-20\n",
       "15    3.490755e-30\n",
       "16    3.593076e-07\n",
       "17    1.294770e-05\n",
       "18    6.873268e-17\n",
       "19    4.250918e-20\n",
       "20    2.541690e-24\n",
       "21    5.090684e-18\n",
       "dtype: float64"
      ]
     },
     "execution_count": 18,
     "metadata": {},
     "output_type": "execute_result"
    }
   ],
   "source": [
    "import pandas as pd\n",
    "p_values=pd.Series(f_p_values[1])\n",
    "p_values.index=X_1.columns\n",
    "p_values"
   ]
  },
  {
   "cell_type": "code",
   "execution_count": 19,
   "metadata": {},
   "outputs": [
    {
     "data": {
      "text/plain": [
       "9     6.326811e-09\n",
       "8     1.104944e-11\n",
       "7     1.176769e-05\n",
       "6     4.510346e-22\n",
       "5     4.106161e-19\n",
       "4     1.888995e-11\n",
       "3     5.118614e-08\n",
       "21    5.090684e-18\n",
       "20    2.541690e-24\n",
       "2     7.157268e-14\n",
       "19    4.250918e-20\n",
       "18    6.873268e-17\n",
       "17    1.294770e-05\n",
       "16    3.593076e-07\n",
       "15    3.490755e-30\n",
       "14    1.706806e-20\n",
       "13    1.141406e-20\n",
       "12    1.705375e-49\n",
       "11    5.599170e-08\n",
       "10    3.098168e-37\n",
       "1     4.771635e-16\n",
       "dtype: float64"
      ]
     },
     "execution_count": 19,
     "metadata": {},
     "output_type": "execute_result"
    }
   ],
   "source": [
    "p_values.sort_index(ascending=False)"
   ]
  },
  {
   "cell_type": "markdown",
   "metadata": {},
   "source": [
    "# --------------------------------------------------------------------------------------------"
   ]
  },
  {
   "cell_type": "code",
   "execution_count": 20,
   "metadata": {},
   "outputs": [],
   "source": [
    "del data['3']\n",
    "del data['16']\n",
    "del data['14']"
   ]
  },
  {
   "cell_type": "code",
   "execution_count": 21,
   "metadata": {},
   "outputs": [
    {
     "data": {
      "text/html": [
       "<div>\n",
       "<style scoped>\n",
       "    .dataframe tbody tr th:only-of-type {\n",
       "        vertical-align: middle;\n",
       "    }\n",
       "\n",
       "    .dataframe tbody tr th {\n",
       "        vertical-align: top;\n",
       "    }\n",
       "\n",
       "    .dataframe thead th {\n",
       "        text-align: right;\n",
       "    }\n",
       "</style>\n",
       "<table border=\"1\" class=\"dataframe\">\n",
       "  <thead>\n",
       "    <tr style=\"text-align: right;\">\n",
       "      <th></th>\n",
       "      <th>1</th>\n",
       "      <th>2</th>\n",
       "      <th>4</th>\n",
       "      <th>5</th>\n",
       "      <th>6</th>\n",
       "      <th>7</th>\n",
       "      <th>8</th>\n",
       "      <th>9</th>\n",
       "      <th>10</th>\n",
       "      <th>11</th>\n",
       "      <th>12</th>\n",
       "      <th>13</th>\n",
       "      <th>15</th>\n",
       "      <th>17</th>\n",
       "      <th>18</th>\n",
       "      <th>19</th>\n",
       "      <th>20</th>\n",
       "      <th>21</th>\n",
       "      <th>bug</th>\n",
       "    </tr>\n",
       "  </thead>\n",
       "  <tbody>\n",
       "    <tr>\n",
       "      <th>0</th>\n",
       "      <td>2.302585</td>\n",
       "      <td>0.693147</td>\n",
       "      <td>0.693147</td>\n",
       "      <td>2.397895</td>\n",
       "      <td>3.433987</td>\n",
       "      <td>0.262364</td>\n",
       "      <td>1.465568</td>\n",
       "      <td>2.302585</td>\n",
       "      <td>4.615121</td>\n",
       "      <td>0.009950</td>\n",
       "      <td>1.880991</td>\n",
       "      <td>1.609438</td>\n",
       "      <td>1.098612</td>\n",
       "      <td>1.791759</td>\n",
       "      <td>1.386294</td>\n",
       "      <td>1.945910</td>\n",
       "      <td>1.609438</td>\n",
       "      <td>0.693147</td>\n",
       "      <td>0.0</td>\n",
       "    </tr>\n",
       "    <tr>\n",
       "      <th>1</th>\n",
       "      <td>2.580132</td>\n",
       "      <td>1.098612</td>\n",
       "      <td>0.693147</td>\n",
       "      <td>3.307601</td>\n",
       "      <td>4.684089</td>\n",
       "      <td>0.220235</td>\n",
       "      <td>1.629474</td>\n",
       "      <td>3.301905</td>\n",
       "      <td>6.087572</td>\n",
       "      <td>0.037801</td>\n",
       "      <td>3.235824</td>\n",
       "      <td>2.154245</td>\n",
       "      <td>0.642464</td>\n",
       "      <td>2.088054</td>\n",
       "      <td>2.437859</td>\n",
       "      <td>2.805222</td>\n",
       "      <td>2.606668</td>\n",
       "      <td>1.386294</td>\n",
       "      <td>1.0</td>\n",
       "    </tr>\n",
       "    <tr>\n",
       "      <th>2</th>\n",
       "      <td>4.969813</td>\n",
       "      <td>3.295837</td>\n",
       "      <td>3.091042</td>\n",
       "      <td>6.042633</td>\n",
       "      <td>7.878864</td>\n",
       "      <td>0.029559</td>\n",
       "      <td>3.640477</td>\n",
       "      <td>4.278470</td>\n",
       "      <td>11.492411</td>\n",
       "      <td>0.631272</td>\n",
       "      <td>8.602212</td>\n",
       "      <td>4.762174</td>\n",
       "      <td>2.639057</td>\n",
       "      <td>3.218876</td>\n",
       "      <td>4.007333</td>\n",
       "      <td>5.537334</td>\n",
       "      <td>5.123964</td>\n",
       "      <td>3.951244</td>\n",
       "      <td>1.0</td>\n",
       "    </tr>\n",
       "    <tr>\n",
       "      <th>3</th>\n",
       "      <td>4.941642</td>\n",
       "      <td>3.496508</td>\n",
       "      <td>2.397895</td>\n",
       "      <td>6.056784</td>\n",
       "      <td>7.893042</td>\n",
       "      <td>0.039221</td>\n",
       "      <td>3.244933</td>\n",
       "      <td>4.696472</td>\n",
       "      <td>11.098026</td>\n",
       "      <td>0.636577</td>\n",
       "      <td>8.207912</td>\n",
       "      <td>4.779123</td>\n",
       "      <td>2.833213</td>\n",
       "      <td>2.890372</td>\n",
       "      <td>4.127134</td>\n",
       "      <td>5.521461</td>\n",
       "      <td>5.181784</td>\n",
       "      <td>4.158883</td>\n",
       "      <td>1.0</td>\n",
       "    </tr>\n",
       "    <tr>\n",
       "      <th>4</th>\n",
       "      <td>2.084363</td>\n",
       "      <td>0.875235</td>\n",
       "      <td>0.693147</td>\n",
       "      <td>2.566164</td>\n",
       "      <td>3.689585</td>\n",
       "      <td>0.295645</td>\n",
       "      <td>1.370001</td>\n",
       "      <td>2.666960</td>\n",
       "      <td>4.746885</td>\n",
       "      <td>0.014375</td>\n",
       "      <td>1.995749</td>\n",
       "      <td>1.380035</td>\n",
       "      <td>0.875235</td>\n",
       "      <td>1.791759</td>\n",
       "      <td>1.697575</td>\n",
       "      <td>2.058771</td>\n",
       "      <td>1.820509</td>\n",
       "      <td>1.004428</td>\n",
       "      <td>1.0</td>\n",
       "    </tr>\n",
       "  </tbody>\n",
       "</table>\n",
       "</div>"
      ],
      "text/plain": [
       "          1         2         4         5         6         7         8  \\\n",
       "0  2.302585  0.693147  0.693147  2.397895  3.433987  0.262364  1.465568   \n",
       "1  2.580132  1.098612  0.693147  3.307601  4.684089  0.220235  1.629474   \n",
       "2  4.969813  3.295837  3.091042  6.042633  7.878864  0.029559  3.640477   \n",
       "3  4.941642  3.496508  2.397895  6.056784  7.893042  0.039221  3.244933   \n",
       "4  2.084363  0.875235  0.693147  2.566164  3.689585  0.295645  1.370001   \n",
       "\n",
       "          9         10        11        12        13        15        17  \\\n",
       "0  2.302585   4.615121  0.009950  1.880991  1.609438  1.098612  1.791759   \n",
       "1  3.301905   6.087572  0.037801  3.235824  2.154245  0.642464  2.088054   \n",
       "2  4.278470  11.492411  0.631272  8.602212  4.762174  2.639057  3.218876   \n",
       "3  4.696472  11.098026  0.636577  8.207912  4.779123  2.833213  2.890372   \n",
       "4  2.666960   4.746885  0.014375  1.995749  1.380035  0.875235  1.791759   \n",
       "\n",
       "         18        19        20        21  bug  \n",
       "0  1.386294  1.945910  1.609438  0.693147  0.0  \n",
       "1  2.437859  2.805222  2.606668  1.386294  1.0  \n",
       "2  4.007333  5.537334  5.123964  3.951244  1.0  \n",
       "3  4.127134  5.521461  5.181784  4.158883  1.0  \n",
       "4  1.697575  2.058771  1.820509  1.004428  1.0  "
      ]
     },
     "execution_count": 21,
     "metadata": {},
     "output_type": "execute_result"
    }
   ],
   "source": [
    "data.head()"
   ]
  },
  {
   "cell_type": "code",
   "execution_count": 22,
   "metadata": {},
   "outputs": [],
   "source": [
    "X = data.drop(labels=['bug'], axis=1)\n",
    "y = data['bug']"
   ]
  },
  {
   "cell_type": "markdown",
   "metadata": {},
   "source": [
    "# 特征相关性分析阶段"
   ]
  },
  {
   "cell_type": "code",
   "execution_count": 23,
   "metadata": {},
   "outputs": [],
   "source": [
    "#importing libraries\n",
    "from sklearn.datasets import load_boston\n",
    "import pandas as pd\n",
    "import matplotlib.pyplot as plt"
   ]
  },
  {
   "cell_type": "code",
   "execution_count": 24,
   "metadata": {},
   "outputs": [],
   "source": [
    "#Symmetrical Uncertainty\n",
    "#entropy\n",
    "from scipy.stats import entropy\n",
    "import numpy as np\n",
    "#Joint Entropy\n",
    "def jEntropy(Y,X):\n",
    "    YX = np.c_[Y,X]\n",
    "    return entropy(YX)\n",
    "\n",
    "#conditional entropy\n",
    "def cEntropy(Y, X):\n",
    "    return jEntropy(Y, X) - entropy(X)\n",
    "\n",
    "#SU\n",
    "def symmetricalUncertain(Y,X):\n",
    "    n = float(y.shape[0])\n",
    "    vals = np.unique(Y)\n",
    "    # Computing Entropy for the feature x. \n",
    "    Hx = entropy(X)\n",
    "    # Computing Entropy for the feature y.\n",
    "    Hy = entropy(Y)\n",
    "    #Computing Joint entropy between x and y.\n",
    "    Hxy = jEntropy(Y,X)\n",
    "    IG = Hx-Hxy\n",
    "    return 2*IG/(Hx+Hy)"
   ]
  },
  {
   "cell_type": "code",
   "execution_count": 65,
   "metadata": {},
   "outputs": [
    {
     "name": "stdout",
     "output_type": "stream",
     "text": [
      "[7.863261296672037e-16, 7.910474804070692e-16, 7.905450991669285e-16, 7.866964925472921e-16, 7.862738188647541e-16, 8.133290250483238e-16, 7.876976275798957e-16, 7.845769267968878e-16, 7.878999150106196e-16, 8.328604424813393e-16, 7.952884458132895e-16, 7.895061814893151e-16, 8.109521389746221e-16, 7.837385135496227e-16, 7.891361376175856e-16, 7.87660868836721e-16, 7.907701437569471e-16, 7.923309663704217e-16]\n"
     ]
    }
   ],
   "source": [
    "top_n1 =[]\n",
    "for i in X.columns.values:\n",
    "    X[i]=X[i].astype('float64')\n",
    "    top_n1.append(symmetricalUncertain(X[i],X[\"10\"]))\n",
    "# print (top_n1)\n",
    "top_n2=[row[1] for row in top_n1]\n",
    "print (top_n2)\n",
    "\n",
    "col_name1 = np.array(X.columns)\n",
    "a1 = pd.DataFrame(top_n2)\n",
    "b1 = pd.DataFrame(col_name1)\n",
    "info3 = pd.concat([a1,b1], axis=1)\n",
    "info3.columns = ['Score','Features']\n",
    "# info3"
   ]
  },
  {
   "cell_type": "code",
   "execution_count": 66,
   "metadata": {},
   "outputs": [
    {
     "data": {
      "text/plain": [
       "11    8.328604e-16\n",
       "7     8.133290e-16\n",
       "15    8.109521e-16\n",
       "12    7.952884e-16\n",
       "21    7.923310e-16\n",
       "2     7.910475e-16\n",
       "20    7.907701e-16\n",
       "4     7.905451e-16\n",
       "13    7.895062e-16\n",
       "18    7.891361e-16\n",
       "10    7.878999e-16\n",
       "8     7.876976e-16\n",
       "19    7.876609e-16\n",
       "5     7.866965e-16\n",
       "1     7.863261e-16\n",
       "6     7.862738e-16\n",
       "9     7.845769e-16\n",
       "17    7.837385e-16\n",
       "dtype: float64"
      ]
     },
     "execution_count": 66,
     "metadata": {},
     "output_type": "execute_result"
    }
   ],
   "source": [
    "SU = pd.Series(top_n2)\n",
    "SU.index = X.columns\n",
    "SU.sort_values(ascending=False)"
   ]
  },
  {
   "cell_type": "code",
   "execution_count": 40,
   "metadata": {},
   "outputs": [
    {
     "data": {
      "text/html": [
       "<div>\n",
       "<style scoped>\n",
       "    .dataframe tbody tr th:only-of-type {\n",
       "        vertical-align: middle;\n",
       "    }\n",
       "\n",
       "    .dataframe tbody tr th {\n",
       "        vertical-align: top;\n",
       "    }\n",
       "\n",
       "    .dataframe thead th {\n",
       "        text-align: right;\n",
       "    }\n",
       "</style>\n",
       "<table border=\"1\" class=\"dataframe\">\n",
       "  <thead>\n",
       "    <tr style=\"text-align: right;\">\n",
       "      <th></th>\n",
       "      <th>1</th>\n",
       "      <th>2</th>\n",
       "      <th>4</th>\n",
       "      <th>7</th>\n",
       "      <th>11</th>\n",
       "      <th>12</th>\n",
       "      <th>15</th>\n",
       "      <th>17</th>\n",
       "      <th>21</th>\n",
       "      <th>bug</th>\n",
       "    </tr>\n",
       "  </thead>\n",
       "  <tbody>\n",
       "    <tr>\n",
       "      <th>0</th>\n",
       "      <td>1.609438</td>\n",
       "      <td>0.693147</td>\n",
       "      <td>0.693147</td>\n",
       "      <td>0.512824</td>\n",
       "      <td>0.000000</td>\n",
       "      <td>0.512824</td>\n",
       "      <td>0.000000</td>\n",
       "      <td>1.386294</td>\n",
       "      <td>0.693147</td>\n",
       "      <td>0.0</td>\n",
       "    </tr>\n",
       "    <tr>\n",
       "      <th>1</th>\n",
       "      <td>3.440424</td>\n",
       "      <td>0.845543</td>\n",
       "      <td>0.782293</td>\n",
       "      <td>0.098336</td>\n",
       "      <td>0.078987</td>\n",
       "      <td>4.956367</td>\n",
       "      <td>1.233898</td>\n",
       "      <td>2.502505</td>\n",
       "      <td>2.190275</td>\n",
       "      <td>1.0</td>\n",
       "    </tr>\n",
       "    <tr>\n",
       "      <th>2</th>\n",
       "      <td>3.395635</td>\n",
       "      <td>1.386294</td>\n",
       "      <td>1.386294</td>\n",
       "      <td>0.079520</td>\n",
       "      <td>0.110839</td>\n",
       "      <td>5.463206</td>\n",
       "      <td>0.986052</td>\n",
       "      <td>2.604675</td>\n",
       "      <td>1.791759</td>\n",
       "      <td>1.0</td>\n",
       "    </tr>\n",
       "    <tr>\n",
       "      <th>3</th>\n",
       "      <td>2.890372</td>\n",
       "      <td>1.098612</td>\n",
       "      <td>1.098612</td>\n",
       "      <td>0.113329</td>\n",
       "      <td>0.048790</td>\n",
       "      <td>4.214643</td>\n",
       "      <td>0.693147</td>\n",
       "      <td>2.397895</td>\n",
       "      <td>1.386294</td>\n",
       "      <td>0.0</td>\n",
       "    </tr>\n",
       "    <tr>\n",
       "      <th>4</th>\n",
       "      <td>1.098612</td>\n",
       "      <td>0.693147</td>\n",
       "      <td>0.693147</td>\n",
       "      <td>0.693147</td>\n",
       "      <td>0.000000</td>\n",
       "      <td>0.231112</td>\n",
       "      <td>0.000000</td>\n",
       "      <td>1.098612</td>\n",
       "      <td>0.693147</td>\n",
       "      <td>0.0</td>\n",
       "    </tr>\n",
       "  </tbody>\n",
       "</table>\n",
       "</div>"
      ],
      "text/plain": [
       "          1         2         4         7        11        12        15  \\\n",
       "0  1.609438  0.693147  0.693147  0.512824  0.000000  0.512824  0.000000   \n",
       "1  3.440424  0.845543  0.782293  0.098336  0.078987  4.956367  1.233898   \n",
       "2  3.395635  1.386294  1.386294  0.079520  0.110839  5.463206  0.986052   \n",
       "3  2.890372  1.098612  1.098612  0.113329  0.048790  4.214643  0.693147   \n",
       "4  1.098612  0.693147  0.693147  0.693147  0.000000  0.231112  0.000000   \n",
       "\n",
       "         17        21  bug  \n",
       "0  1.386294  0.693147  0.0  \n",
       "1  2.502505  2.190275  1.0  \n",
       "2  2.604675  1.791759  1.0  \n",
       "3  2.397895  1.386294  0.0  \n",
       "4  1.098612  0.693147  0.0  "
      ]
     },
     "execution_count": 40,
     "metadata": {},
     "output_type": "execute_result"
    }
   ],
   "source": [
    "corr_features = [\"6\",\"5\",\"8\",\"9\",\"20\",\"18\",\"19\",\"10\",\"13\"]\n",
    "data2=data.drop(corr_features,axis=1)\n",
    "data2.head()"
   ]
  },
  {
   "cell_type": "code",
   "execution_count": 41,
   "metadata": {},
   "outputs": [
    {
     "data": {
      "text/plain": [
       "((650, 9), (279, 9))"
      ]
     },
     "execution_count": 41,
     "metadata": {},
     "output_type": "execute_result"
    }
   ],
   "source": [
    "# separate dataset into train and test\n",
    "from sklearn.model_selection import train_test_split\n",
    "X_train, X_test, y_train, y_test = train_test_split(\n",
    "    data2.drop(\"bug\",axis=1),\n",
    "    data2[\"bug\"],\n",
    "    test_size=0.3,\n",
    "    random_state=0)\n",
    "\n",
    "X_train.shape, X_test.shape"
   ]
  },
  {
   "cell_type": "code",
   "execution_count": 45,
   "metadata": {},
   "outputs": [
    {
     "name": "stdout",
     "output_type": "stream",
     "text": [
      "0.7588652482269502\n",
      "0.7562435765673176\n"
     ]
    }
   ],
   "source": [
    "from sklearn.svm import SVC, LinearSVC\n",
    "from sklearn.metrics import f1_score,roc_auc_score\n",
    "SVM = LinearSVC()\n",
    "SVM.fit(X_train, y_train)\n",
    "y_pred = SVM.predict(X_test)\n",
    "#SVM.score(X_test,y_test)\n",
    "f1_score1 = f1_score(y_test,y_pred)\n",
    "roc_auc_score1 = roc_auc_score(y_test,y_pred)\n",
    "print(f1_score1)\n",
    "print(roc_auc_score1)"
   ]
  }
 ],
 "metadata": {
  "kernelspec": {
   "display_name": "Python 3",
   "language": "python",
   "name": "python3"
  },
  "language_info": {
   "codemirror_mode": {
    "name": "ipython",
    "version": 3
   },
   "file_extension": ".py",
   "mimetype": "text/x-python",
   "name": "python",
   "nbconvert_exporter": "python",
   "pygments_lexer": "ipython3",
   "version": "3.6.4"
  }
 },
 "nbformat": 4,
 "nbformat_minor": 2
}
