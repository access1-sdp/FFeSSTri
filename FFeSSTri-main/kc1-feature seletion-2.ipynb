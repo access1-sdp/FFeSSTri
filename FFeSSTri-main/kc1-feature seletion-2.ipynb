{
 "cells": [
  {
   "cell_type": "markdown",
   "metadata": {},
   "source": [
    "# 特征相关性分析-信息增益率"
   ]
  },
  {
   "cell_type": "code",
   "execution_count": 2,
   "metadata": {},
   "outputs": [],
   "source": [
    "import pandas as pd\n",
    "import numpy as np\n",
    "#定义计算信息熵的函数：计算Infor(D)\n",
    "def infor(data):\n",
    "    a = pd.value_counts(data) / len(data)\n",
    "    return sum(np.log2(a) * a * (-1))"
   ]
  },
  {
   "cell_type": "code",
   "execution_count": 3,
   "metadata": {},
   "outputs": [],
   "source": [
    "#定义计算信息增益的函数：计算g(D|A)\n",
    "def g(data,str1,str2):\n",
    "    e1 = data.groupby(str1).apply(lambda x:infor(x[str2]))\n",
    "    p1 = pd.value_counts(data[str1]) / len(data[str1])\n",
    "    #计算Infor(D|A)\n",
    "    e2 = sum(e1 * p1)\n",
    "    return infor(data[str2]) - e2"
   ]
  },
  {
   "cell_type": "code",
   "execution_count": 4,
   "metadata": {},
   "outputs": [],
   "source": [
    "#定义计算信息增益率的函数：计算gr(D,A)\n",
    "def gr(data,str1,str2):\n",
    "    return g(data,str1,str2)/infor(data[str1])"
   ]
  },
  {
   "cell_type": "code",
   "execution_count": 5,
   "metadata": {},
   "outputs": [
    {
     "data": {
      "text/html": [
       "<div>\n",
       "<style scoped>\n",
       "    .dataframe tbody tr th:only-of-type {\n",
       "        vertical-align: middle;\n",
       "    }\n",
       "\n",
       "    .dataframe tbody tr th {\n",
       "        vertical-align: top;\n",
       "    }\n",
       "\n",
       "    .dataframe thead th {\n",
       "        text-align: right;\n",
       "    }\n",
       "</style>\n",
       "<table border=\"1\" class=\"dataframe\">\n",
       "  <thead>\n",
       "    <tr style=\"text-align: right;\">\n",
       "      <th></th>\n",
       "      <th>1</th>\n",
       "      <th>2</th>\n",
       "      <th>3</th>\n",
       "      <th>4</th>\n",
       "      <th>5</th>\n",
       "      <th>6</th>\n",
       "      <th>7</th>\n",
       "      <th>8</th>\n",
       "      <th>9</th>\n",
       "      <th>10</th>\n",
       "      <th>...</th>\n",
       "      <th>13</th>\n",
       "      <th>14</th>\n",
       "      <th>15</th>\n",
       "      <th>16</th>\n",
       "      <th>17</th>\n",
       "      <th>18</th>\n",
       "      <th>19</th>\n",
       "      <th>20</th>\n",
       "      <th>21</th>\n",
       "      <th>bug</th>\n",
       "    </tr>\n",
       "  </thead>\n",
       "  <tbody>\n",
       "    <tr>\n",
       "      <th>0</th>\n",
       "      <td>2.833213</td>\n",
       "      <td>1.609438</td>\n",
       "      <td>0.693147</td>\n",
       "      <td>1.609438</td>\n",
       "      <td>4.465908</td>\n",
       "      <td>6.066108</td>\n",
       "      <td>0.104360</td>\n",
       "      <td>2.292535</td>\n",
       "      <td>3.897721</td>\n",
       "      <td>8.250633</td>\n",
       "      <td>...</td>\n",
       "      <td>2.484907</td>\n",
       "      <td>0.000000</td>\n",
       "      <td>1.386294</td>\n",
       "      <td>0.0</td>\n",
       "      <td>2.484907</td>\n",
       "      <td>3.091042</td>\n",
       "      <td>3.970292</td>\n",
       "      <td>3.555348</td>\n",
       "      <td>2.079442</td>\n",
       "      <td>1.0</td>\n",
       "    </tr>\n",
       "    <tr>\n",
       "      <th>1</th>\n",
       "      <td>4.468296</td>\n",
       "      <td>2.397106</td>\n",
       "      <td>0.693147</td>\n",
       "      <td>2.346368</td>\n",
       "      <td>5.519604</td>\n",
       "      <td>7.264076</td>\n",
       "      <td>0.044182</td>\n",
       "      <td>3.079337</td>\n",
       "      <td>4.245663</td>\n",
       "      <td>10.295522</td>\n",
       "      <td>...</td>\n",
       "      <td>4.259181</td>\n",
       "      <td>2.079442</td>\n",
       "      <td>1.940903</td>\n",
       "      <td>0.0</td>\n",
       "      <td>2.833651</td>\n",
       "      <td>3.651336</td>\n",
       "      <td>5.025726</td>\n",
       "      <td>4.587610</td>\n",
       "      <td>2.994406</td>\n",
       "      <td>1.0</td>\n",
       "    </tr>\n",
       "    <tr>\n",
       "      <th>2</th>\n",
       "      <td>2.197225</td>\n",
       "      <td>0.693147</td>\n",
       "      <td>0.693147</td>\n",
       "      <td>0.693147</td>\n",
       "      <td>2.772589</td>\n",
       "      <td>3.968214</td>\n",
       "      <td>0.173953</td>\n",
       "      <td>1.832581</td>\n",
       "      <td>2.386926</td>\n",
       "      <td>5.611046</td>\n",
       "      <td>...</td>\n",
       "      <td>1.791759</td>\n",
       "      <td>0.000000</td>\n",
       "      <td>0.000000</td>\n",
       "      <td>0.0</td>\n",
       "      <td>2.079442</td>\n",
       "      <td>1.609438</td>\n",
       "      <td>2.302585</td>\n",
       "      <td>1.945910</td>\n",
       "      <td>0.693147</td>\n",
       "      <td>0.0</td>\n",
       "    </tr>\n",
       "    <tr>\n",
       "      <th>3</th>\n",
       "      <td>4.532599</td>\n",
       "      <td>2.197225</td>\n",
       "      <td>1.386294</td>\n",
       "      <td>2.197225</td>\n",
       "      <td>5.318120</td>\n",
       "      <td>7.023118</td>\n",
       "      <td>0.067659</td>\n",
       "      <td>2.794228</td>\n",
       "      <td>4.304470</td>\n",
       "      <td>9.753594</td>\n",
       "      <td>...</td>\n",
       "      <td>4.330733</td>\n",
       "      <td>1.609438</td>\n",
       "      <td>1.609438</td>\n",
       "      <td>0.0</td>\n",
       "      <td>2.564949</td>\n",
       "      <td>3.555348</td>\n",
       "      <td>4.762174</td>\n",
       "      <td>4.477337</td>\n",
       "      <td>2.772589</td>\n",
       "      <td>1.0</td>\n",
       "    </tr>\n",
       "    <tr>\n",
       "      <th>4</th>\n",
       "      <td>1.098612</td>\n",
       "      <td>0.693147</td>\n",
       "      <td>0.693147</td>\n",
       "      <td>0.693147</td>\n",
       "      <td>1.609438</td>\n",
       "      <td>2.197225</td>\n",
       "      <td>0.512824</td>\n",
       "      <td>0.916291</td>\n",
       "      <td>1.845300</td>\n",
       "      <td>2.564949</td>\n",
       "      <td>...</td>\n",
       "      <td>0.000000</td>\n",
       "      <td>0.000000</td>\n",
       "      <td>0.000000</td>\n",
       "      <td>0.0</td>\n",
       "      <td>1.386294</td>\n",
       "      <td>0.693147</td>\n",
       "      <td>1.386294</td>\n",
       "      <td>0.693147</td>\n",
       "      <td>0.693147</td>\n",
       "      <td>0.0</td>\n",
       "    </tr>\n",
       "  </tbody>\n",
       "</table>\n",
       "<p>5 rows × 22 columns</p>\n",
       "</div>"
      ],
      "text/plain": [
       "          1         2         3         4         5         6         7  \\\n",
       "0  2.833213  1.609438  0.693147  1.609438  4.465908  6.066108  0.104360   \n",
       "1  4.468296  2.397106  0.693147  2.346368  5.519604  7.264076  0.044182   \n",
       "2  2.197225  0.693147  0.693147  0.693147  2.772589  3.968214  0.173953   \n",
       "3  4.532599  2.197225  1.386294  2.197225  5.318120  7.023118  0.067659   \n",
       "4  1.098612  0.693147  0.693147  0.693147  1.609438  2.197225  0.512824   \n",
       "\n",
       "          8         9         10 ...         13        14        15   16  \\\n",
       "0  2.292535  3.897721   8.250633 ...   2.484907  0.000000  1.386294  0.0   \n",
       "1  3.079337  4.245663  10.295522 ...   4.259181  2.079442  1.940903  0.0   \n",
       "2  1.832581  2.386926   5.611046 ...   1.791759  0.000000  0.000000  0.0   \n",
       "3  2.794228  4.304470   9.753594 ...   4.330733  1.609438  1.609438  0.0   \n",
       "4  0.916291  1.845300   2.564949 ...   0.000000  0.000000  0.000000  0.0   \n",
       "\n",
       "         17        18        19        20        21  bug  \n",
       "0  2.484907  3.091042  3.970292  3.555348  2.079442  1.0  \n",
       "1  2.833651  3.651336  5.025726  4.587610  2.994406  1.0  \n",
       "2  2.079442  1.609438  2.302585  1.945910  0.693147  0.0  \n",
       "3  2.564949  3.555348  4.762174  4.477337  2.772589  1.0  \n",
       "4  1.386294  0.693147  1.386294  0.693147  0.693147  0.0  \n",
       "\n",
       "[5 rows x 22 columns]"
      ]
     },
     "execution_count": 5,
     "metadata": {},
     "output_type": "execute_result"
    }
   ],
   "source": [
    "data=pd.read_csv('kc1_2.csv')\n",
    "data.columns = [\"1\", \"2\", \"3\", \"4\",\"5\",\"6\",\"7\",\"8\",\"9\",\"10\",\"11\",\"12\",\"13\",\"14\",\"15\",\"16\",\"17\",\"18\",\"19\",\"20\",\"21\",\"bug\"]\n",
    "data.head()"
   ]
  },
  {
   "cell_type": "code",
   "execution_count": 6,
   "metadata": {},
   "outputs": [
    {
     "data": {
      "text/plain": [
       "array([1., 0.])"
      ]
     },
     "execution_count": 6,
     "metadata": {},
     "output_type": "execute_result"
    }
   ],
   "source": [
    "data['bug'].unique()"
   ]
  },
  {
   "cell_type": "code",
   "execution_count": 7,
   "metadata": {},
   "outputs": [
    {
     "name": "stdout",
     "output_type": "stream",
     "text": [
      "[0.096555326667037, 0.08175850302421199, 0.0767959016818665, 0.07434656180568812, 0.10003589331673614, 0.10794186041191631, 0.0912935210164518, 0.10644991954811522, 0.10953660829914529, 0.1100805493381144, 0.09185587733559368, 0.11010867934932522, 0.09230893571543723, 0.0724464096676847, 0.0893715153255874, 0.06098257208194623, 0.08789262243759893, 0.08930149174157219, 0.094584818811922, 0.09602608365034641, 0.08275411066850293]\n"
     ]
    }
   ],
   "source": [
    "features = [\"1\", \"2\", \"3\", \"4\",\"5\",\"6\",\"7\",\"8\",\"9\",\"10\",\"11\",\"12\",\"13\",\"14\",\"15\",\"16\",\"17\",\"18\",\"19\",\"20\",\"21\"]\n",
    "lists = []\n",
    "for feature in features:\n",
    "    lists.append(gr(data,feature,'bug'))\n",
    "print(lists)"
   ]
  },
  {
   "cell_type": "code",
   "execution_count": 8,
   "metadata": {},
   "outputs": [],
   "source": [
    "data1 = data.drop(labels=['bug'],axis=1)"
   ]
  },
  {
   "cell_type": "code",
   "execution_count": 9,
   "metadata": {},
   "outputs": [
    {
     "data": {
      "text/plain": [
       "12    0.110109\n",
       "10    0.110081\n",
       "9     0.109537\n",
       "6     0.107942\n",
       "8     0.106450\n",
       "5     0.100036\n",
       "1     0.096555\n",
       "20    0.096026\n",
       "19    0.094585\n",
       "13    0.092309\n",
       "11    0.091856\n",
       "7     0.091294\n",
       "15    0.089372\n",
       "18    0.089301\n",
       "17    0.087893\n",
       "21    0.082754\n",
       "2     0.081759\n",
       "3     0.076796\n",
       "4     0.074347\n",
       "14    0.072446\n",
       "16    0.060983\n",
       "dtype: float64"
      ]
     },
     "execution_count": 9,
     "metadata": {},
     "output_type": "execute_result"
    }
   ],
   "source": [
    "IGR = pd.Series(lists)\n",
    "IGR.index = data1.columns\n",
    "IGR.sort_values(ascending=False)"
   ]
  },
  {
   "cell_type": "code",
   "execution_count": 10,
   "metadata": {},
   "outputs": [
    {
     "data": {
      "text/plain": [
       "<matplotlib.axes._subplots.AxesSubplot at 0x19f78d6f4a8>"
      ]
     },
     "execution_count": 10,
     "metadata": {},
     "output_type": "execute_result"
    },
    {
     "data": {
      "image/png": "[encoded data removed]",
      "text/plain": [
       "<matplotlib.figure.Figure at 0x19f78d3d630>"
      ]
     },
     "metadata": {},
     "output_type": "display_data"
    }
   ],
   "source": [
    "#let's plot the ordered mutual_info values per feature\n",
    "import matplotlib.pyplot as plot\n",
    "IGR.sort_values(ascending=True).plot.barh(figsize=(8, 6))"
   ]
  },
  {
   "cell_type": "markdown",
   "metadata": {},
   "source": [
    "# 特征相关性分析-互信息"
   ]
  },
  {
   "cell_type": "code",
   "execution_count": 7,
   "metadata": {},
   "outputs": [],
   "source": [
    "X_1 = data.drop(labels=['bug'], axis=1)\n",
    "y_1 = data['bug']"
   ]
  },
  {
   "cell_type": "code",
   "execution_count": 8,
   "metadata": {},
   "outputs": [
    {
     "data": {
      "text/plain": [
       "array([0.25345662, 0.1373916 , 0.03795853, 0.13651183, 0.22412489,\n",
       "       0.20879747, 0.23093969, 0.19071997, 0.16871165, 0.19315843,\n",
       "       0.19629163, 0.19256935, 0.22606271, 0.0661857 , 0.21021962,\n",
       "       0.        , 0.23478893, 0.22900687, 0.22907891, 0.2214014 ,\n",
       "       0.12332376])"
      ]
     },
     "execution_count": 8,
     "metadata": {},
     "output_type": "execute_result"
    }
   ],
   "source": [
    "from sklearn.feature_selection import mutual_info_classif\n",
    "# determine the mutual information\n",
    "mutual_info = mutual_info_classif(X_1, y_1)\n",
    "mutual_info"
   ]
  },
  {
   "cell_type": "code",
   "execution_count": 9,
   "metadata": {},
   "outputs": [
    {
     "data": {
      "text/plain": [
       "1     0.253457\n",
       "17    0.234789\n",
       "7     0.230940\n",
       "19    0.229079\n",
       "18    0.229007\n",
       "13    0.226063\n",
       "5     0.224125\n",
       "20    0.221401\n",
       "15    0.210220\n",
       "6     0.208797\n",
       "11    0.196292\n",
       "10    0.193158\n",
       "12    0.192569\n",
       "8     0.190720\n",
       "9     0.168712\n",
       "2     0.137392\n",
       "4     0.136512\n",
       "21    0.123324\n",
       "14    0.066186\n",
       "3     0.037959\n",
       "16    0.000000\n",
       "dtype: float64"
      ]
     },
     "execution_count": 9,
     "metadata": {},
     "output_type": "execute_result"
    }
   ],
   "source": [
    "mutual_info = pd.Series(mutual_info)\n",
    "mutual_info.index = X_1.columns\n",
    "mutual_info.sort_values(ascending=False)"
   ]
  },
  {
   "cell_type": "code",
   "execution_count": 11,
   "metadata": {},
   "outputs": [
    {
     "data": {
      "text/plain": [
       "<matplotlib.axes._subplots.AxesSubplot at 0x296a7fc1a20>"
      ]
     },
     "execution_count": 11,
     "metadata": {},
     "output_type": "execute_result"
    },
    {
     "data": {
      "image/png": "[encoded data removed]",
      "text/plain": [
       "<matplotlib.figure.Figure at 0x296a7f95b00>"
      ]
     },
     "metadata": {},
     "output_type": "display_data"
    }
   ],
   "source": [
    "#let's plot the ordered mutual_info values per feature\n",
    "import matplotlib.pyplot as plot\n",
    "mutual_info.sort_values(ascending=True).plot.barh(figsize=(8, 6))"
   ]
  },
  {
   "cell_type": "markdown",
   "metadata": {},
   "source": [
    "# 特征相关性分析-卡方值"
   ]
  },
  {
   "cell_type": "code",
   "execution_count": 16,
   "metadata": {},
   "outputs": [
    {
     "data": {
      "text/plain": [
       "(array([1.33813037e+02, 7.01726607e+01, 2.68819596e+01, 6.06668296e+01,\n",
       "        1.97115663e+02, 2.58302177e+02, 2.99936676e+01, 1.34598572e+02,\n",
       "        9.07654560e+01, 4.51921816e+02, 3.95972290e+01, 5.36836827e+02,\n",
       "        2.59152027e+02, 1.29581551e+02, 2.16960279e+02, 3.10992666e-01,\n",
       "        6.38794283e+01, 1.66575748e+02, 1.95430649e+02, 2.42268763e+02,\n",
       "        1.10618788e+02]),\n",
       " array([6.00305081e-031, 5.43342749e-017, 2.16268220e-007, 6.75996658e-015,\n",
       "        8.89776858e-045, 4.02351409e-058, 4.33459527e-008, 4.04149879e-031,\n",
       "        1.61752785e-021, 2.75344970e-100, 3.12125865e-010, 9.19555381e-119,\n",
       "        2.62636546e-058, 5.05944654e-030, 4.16336746e-049, 5.77071684e-001,\n",
       "        1.32271667e-015, 4.14095840e-038, 2.07502378e-044, 1.25899314e-054,\n",
       "        7.17166313e-026]))"
      ]
     },
     "execution_count": 16,
     "metadata": {},
     "output_type": "execute_result"
    }
   ],
   "source": [
    "from sklearn.feature_selection import chi2\n",
    "f_p_values=chi2(X_1,y_1)\n",
    "f_p_values"
   ]
  },
  {
   "cell_type": "code",
   "execution_count": 17,
   "metadata": {},
   "outputs": [
    {
     "data": {
      "text/plain": [
       "1      6.003051e-31\n",
       "2      5.433427e-17\n",
       "3      2.162682e-07\n",
       "4      6.759967e-15\n",
       "5      8.897769e-45\n",
       "6      4.023514e-58\n",
       "7      4.334595e-08\n",
       "8      4.041499e-31\n",
       "9      1.617528e-21\n",
       "10    2.753450e-100\n",
       "11     3.121259e-10\n",
       "12    9.195554e-119\n",
       "13     2.626365e-58\n",
       "14     5.059447e-30\n",
       "15     4.163367e-49\n",
       "16     5.770717e-01\n",
       "17     1.322717e-15\n",
       "18     4.140958e-38\n",
       "19     2.075024e-44\n",
       "20     1.258993e-54\n",
       "21     7.171663e-26\n",
       "dtype: float64"
      ]
     },
     "execution_count": 17,
     "metadata": {},
     "output_type": "execute_result"
    }
   ],
   "source": [
    "import pandas as pd\n",
    "p_values=pd.Series(f_p_values[1])\n",
    "p_values.index=X_1.columns\n",
    "p_values"
   ]
  },
  {
   "cell_type": "code",
   "execution_count": 18,
   "metadata": {},
   "outputs": [
    {
     "data": {
      "text/plain": [
       "9      1.617528e-21\n",
       "8      4.041499e-31\n",
       "7      4.334595e-08\n",
       "6      4.023514e-58\n",
       "5      8.897769e-45\n",
       "4      6.759967e-15\n",
       "3      2.162682e-07\n",
       "21     7.171663e-26\n",
       "20     1.258993e-54\n",
       "2      5.433427e-17\n",
       "19     2.075024e-44\n",
       "18     4.140958e-38\n",
       "17     1.322717e-15\n",
       "16     5.770717e-01\n",
       "15     4.163367e-49\n",
       "14     5.059447e-30\n",
       "13     2.626365e-58\n",
       "12    9.195554e-119\n",
       "11     3.121259e-10\n",
       "10    2.753450e-100\n",
       "1      6.003051e-31\n",
       "dtype: float64"
      ]
     },
     "execution_count": 18,
     "metadata": {},
     "output_type": "execute_result"
    }
   ],
   "source": [
    "p_values.sort_index(ascending=False)"
   ]
  },
  {
   "cell_type": "markdown",
   "metadata": {},
   "source": [
    "# --------------------------------------------------------------------------------------------"
   ]
  },
  {
   "cell_type": "code",
   "execution_count": 10,
   "metadata": {},
   "outputs": [],
   "source": [
    "del data['3']\n",
    "del data['16']\n",
    "del data['14']"
   ]
  },
  {
   "cell_type": "code",
   "execution_count": 11,
   "metadata": {},
   "outputs": [
    {
     "data": {
      "text/html": [
       "<div>\n",
       "<style scoped>\n",
       "    .dataframe tbody tr th:only-of-type {\n",
       "        vertical-align: middle;\n",
       "    }\n",
       "\n",
       "    .dataframe tbody tr th {\n",
       "        vertical-align: top;\n",
       "    }\n",
       "\n",
       "    .dataframe thead th {\n",
       "        text-align: right;\n",
       "    }\n",
       "</style>\n",
       "<table border=\"1\" class=\"dataframe\">\n",
       "  <thead>\n",
       "    <tr style=\"text-align: right;\">\n",
       "      <th></th>\n",
       "      <th>1</th>\n",
       "      <th>2</th>\n",
       "      <th>4</th>\n",
       "      <th>5</th>\n",
       "      <th>6</th>\n",
       "      <th>7</th>\n",
       "      <th>8</th>\n",
       "      <th>9</th>\n",
       "      <th>10</th>\n",
       "      <th>11</th>\n",
       "      <th>12</th>\n",
       "      <th>13</th>\n",
       "      <th>15</th>\n",
       "      <th>17</th>\n",
       "      <th>18</th>\n",
       "      <th>19</th>\n",
       "      <th>20</th>\n",
       "      <th>21</th>\n",
       "      <th>bug</th>\n",
       "    </tr>\n",
       "  </thead>\n",
       "  <tbody>\n",
       "    <tr>\n",
       "      <th>0</th>\n",
       "      <td>1.609438</td>\n",
       "      <td>0.693147</td>\n",
       "      <td>0.693147</td>\n",
       "      <td>1.609438</td>\n",
       "      <td>2.197225</td>\n",
       "      <td>0.512824</td>\n",
       "      <td>0.916291</td>\n",
       "      <td>1.845300</td>\n",
       "      <td>2.564949</td>\n",
       "      <td>0.000000</td>\n",
       "      <td>0.512824</td>\n",
       "      <td>1.098612</td>\n",
       "      <td>0.000000</td>\n",
       "      <td>1.386294</td>\n",
       "      <td>0.693147</td>\n",
       "      <td>1.386294</td>\n",
       "      <td>0.693147</td>\n",
       "      <td>0.693147</td>\n",
       "      <td>0.0</td>\n",
       "    </tr>\n",
       "    <tr>\n",
       "      <th>1</th>\n",
       "      <td>3.440424</td>\n",
       "      <td>0.845543</td>\n",
       "      <td>0.782293</td>\n",
       "      <td>4.047730</td>\n",
       "      <td>5.556741</td>\n",
       "      <td>0.098336</td>\n",
       "      <td>2.384086</td>\n",
       "      <td>3.303638</td>\n",
       "      <td>7.839978</td>\n",
       "      <td>0.078987</td>\n",
       "      <td>4.956367</td>\n",
       "      <td>3.120755</td>\n",
       "      <td>1.233898</td>\n",
       "      <td>2.502505</td>\n",
       "      <td>2.622764</td>\n",
       "      <td>3.550815</td>\n",
       "      <td>3.153827</td>\n",
       "      <td>2.190275</td>\n",
       "      <td>1.0</td>\n",
       "    </tr>\n",
       "    <tr>\n",
       "      <th>2</th>\n",
       "      <td>3.395635</td>\n",
       "      <td>1.386294</td>\n",
       "      <td>1.386294</td>\n",
       "      <td>4.322673</td>\n",
       "      <td>5.866032</td>\n",
       "      <td>0.079520</td>\n",
       "      <td>2.566237</td>\n",
       "      <td>3.410665</td>\n",
       "      <td>8.349538</td>\n",
       "      <td>0.110839</td>\n",
       "      <td>5.463206</td>\n",
       "      <td>3.238984</td>\n",
       "      <td>0.986052</td>\n",
       "      <td>2.604675</td>\n",
       "      <td>2.708050</td>\n",
       "      <td>3.880252</td>\n",
       "      <td>3.327436</td>\n",
       "      <td>1.791759</td>\n",
       "      <td>1.0</td>\n",
       "    </tr>\n",
       "    <tr>\n",
       "      <th>3</th>\n",
       "      <td>2.890372</td>\n",
       "      <td>1.098612</td>\n",
       "      <td>1.098612</td>\n",
       "      <td>3.610918</td>\n",
       "      <td>4.976734</td>\n",
       "      <td>0.113329</td>\n",
       "      <td>2.233235</td>\n",
       "      <td>2.905808</td>\n",
       "      <td>7.090910</td>\n",
       "      <td>0.048790</td>\n",
       "      <td>4.214643</td>\n",
       "      <td>2.708050</td>\n",
       "      <td>0.693147</td>\n",
       "      <td>2.397895</td>\n",
       "      <td>1.945910</td>\n",
       "      <td>3.295837</td>\n",
       "      <td>2.397895</td>\n",
       "      <td>1.386294</td>\n",
       "      <td>0.0</td>\n",
       "    </tr>\n",
       "    <tr>\n",
       "      <th>4</th>\n",
       "      <td>1.098612</td>\n",
       "      <td>0.693147</td>\n",
       "      <td>0.693147</td>\n",
       "      <td>1.386294</td>\n",
       "      <td>1.749200</td>\n",
       "      <td>0.693147</td>\n",
       "      <td>0.693147</td>\n",
       "      <td>1.749200</td>\n",
       "      <td>1.749200</td>\n",
       "      <td>0.000000</td>\n",
       "      <td>0.231112</td>\n",
       "      <td>0.000000</td>\n",
       "      <td>0.000000</td>\n",
       "      <td>1.098612</td>\n",
       "      <td>0.693147</td>\n",
       "      <td>1.098612</td>\n",
       "      <td>0.693147</td>\n",
       "      <td>0.693147</td>\n",
       "      <td>0.0</td>\n",
       "    </tr>\n",
       "  </tbody>\n",
       "</table>\n",
       "</div>"
      ],
      "text/plain": [
       "          1         2         4         5         6         7         8  \\\n",
       "0  1.609438  0.693147  0.693147  1.609438  2.197225  0.512824  0.916291   \n",
       "1  3.440424  0.845543  0.782293  4.047730  5.556741  0.098336  2.384086   \n",
       "2  3.395635  1.386294  1.386294  4.322673  5.866032  0.079520  2.566237   \n",
       "3  2.890372  1.098612  1.098612  3.610918  4.976734  0.113329  2.233235   \n",
       "4  1.098612  0.693147  0.693147  1.386294  1.749200  0.693147  0.693147   \n",
       "\n",
       "          9        10        11        12        13        15        17  \\\n",
       "0  1.845300  2.564949  0.000000  0.512824  1.098612  0.000000  1.386294   \n",
       "1  3.303638  7.839978  0.078987  4.956367  3.120755  1.233898  2.502505   \n",
       "2  3.410665  8.349538  0.110839  5.463206  3.238984  0.986052  2.604675   \n",
       "3  2.905808  7.090910  0.048790  4.214643  2.708050  0.693147  2.397895   \n",
       "4  1.749200  1.749200  0.000000  0.231112  0.000000  0.000000  1.098612   \n",
       "\n",
       "         18        19        20        21  bug  \n",
       "0  0.693147  1.386294  0.693147  0.693147  0.0  \n",
       "1  2.622764  3.550815  3.153827  2.190275  1.0  \n",
       "2  2.708050  3.880252  3.327436  1.791759  1.0  \n",
       "3  1.945910  3.295837  2.397895  1.386294  0.0  \n",
       "4  0.693147  1.098612  0.693147  0.693147  0.0  "
      ]
     },
     "execution_count": 11,
     "metadata": {},
     "output_type": "execute_result"
    }
   ],
   "source": [
    "data.head()"
   ]
  },
  {
   "cell_type": "code",
   "execution_count": 12,
   "metadata": {},
   "outputs": [],
   "source": [
    "X = data.drop(labels=['bug'], axis=1)\n",
    "y = data['bug']"
   ]
  },
  {
   "cell_type": "markdown",
   "metadata": {},
   "source": [
    "# 特征相关性分析阶段"
   ]
  },
  {
   "cell_type": "code",
   "execution_count": 13,
   "metadata": {},
   "outputs": [],
   "source": [
    "#importing libraries\n",
    "from sklearn.datasets import load_boston\n",
    "import pandas as pd\n",
    "import matplotlib.pyplot as plt"
   ]
  },
  {
   "cell_type": "code",
   "execution_count": 14,
   "metadata": {},
   "outputs": [],
   "source": [
    "#Symmetrical Uncertainty\n",
    "#entropy\n",
    "from scipy.stats import entropy\n",
    "import numpy as np\n",
    "#Joint Entropy\n",
    "def jEntropy(Y,X):\n",
    "    YX = np.c_[Y,X]\n",
    "    return entropy(YX)\n",
    "\n",
    "#conditional entropy\n",
    "def cEntropy(Y, X):\n",
    "    return jEntropy(Y, X) - entropy(X)\n",
    "\n",
    "#SU\n",
    "def symmetricalUncertain(Y,X):\n",
    "    n = float(y.shape[0])\n",
    "    vals = np.unique(Y)\n",
    "    # Computing Entropy for the feature x. \n",
    "    Hx = entropy(X)\n",
    "    # Computing Entropy for the feature y.\n",
    "    Hy = entropy(Y)\n",
    "    #Computing Joint entropy between x and y.\n",
    "    Hxy = jEntropy(Y,X)\n",
    "    IG = Hx-Hxy\n",
    "    return 2*IG/(Hx+Hy)"
   ]
  },
  {
   "cell_type": "code",
   "execution_count": 39,
   "metadata": {},
   "outputs": [
    {
     "name": "stdout",
     "output_type": "stream",
     "text": [
      "[-4.002665516163573e-16, -4.0159466488320203e-16, -4.014168672089922e-16, -4.0083090736974776e-16, -4.0123752504808077e-16, -4.1047596750669053e-16, -4.0200187623047065e-16, -4.004142509872339e-16, -4.020464547898674e-16, -4.2217469012521575e-16, -4.0581234116531253e-16, -4.0533842110466523e-16, -4.182631073626356e-16, -3.995686651531973e-16, -4.024903728924649e-16, -4.0122402975777913e-16, -4.032146908732262e-16, -4.028404382522552e-16]\n"
     ]
    }
   ],
   "source": [
    "top_n1 =[]\n",
    "for i in X.columns.values:\n",
    "    X[i]=X[i].astype('float64')\n",
    "    top_n1.append(symmetricalUncertain(X[i],X[\"13\"]))\n",
    "# print (top_n1)\n",
    "top_n2=[row[1] for row in top_n1]\n",
    "print (top_n2)\n",
    "\n",
    "col_name1 = np.array(X.columns)\n",
    "a1 = pd.DataFrame(top_n2)\n",
    "b1 = pd.DataFrame(col_name1)\n",
    "info3 = pd.concat([a1,b1], axis=1)\n",
    "info3.columns = ['Score','Features']\n",
    "# info3"
   ]
  },
  {
   "cell_type": "code",
   "execution_count": 38,
   "metadata": {},
   "outputs": [
    {
     "data": {
      "text/plain": [
       "17   -2.642463e-16\n",
       "1    -2.647041e-16\n",
       "9    -2.648010e-16\n",
       "5    -2.650743e-16\n",
       "19   -2.653322e-16\n",
       "6    -2.653410e-16\n",
       "4    -2.654587e-16\n",
       "2    -2.655753e-16\n",
       "8    -2.658424e-16\n",
       "10   -2.658717e-16\n",
       "18   -2.661629e-16\n",
       "21   -2.663925e-16\n",
       "20   -2.666380e-16\n",
       "13   -2.680310e-16\n",
       "12   -2.683418e-16\n",
       "7    -2.714002e-16\n",
       "15   -2.765058e-16\n",
       "11   -2.790699e-16\n",
       "dtype: float64"
      ]
     },
     "execution_count": 38,
     "metadata": {},
     "output_type": "execute_result"
    }
   ],
   "source": [
    "SU = pd.Series(top_n2)\n",
    "SU.index = X.columns\n",
    "SU.sort_values(ascending=False)"
   ]
  },
  {
   "cell_type": "code",
   "execution_count": 40,
   "metadata": {},
   "outputs": [
    {
     "data": {
      "text/html": [
       "<div>\n",
       "<style scoped>\n",
       "    .dataframe tbody tr th:only-of-type {\n",
       "        vertical-align: middle;\n",
       "    }\n",
       "\n",
       "    .dataframe tbody tr th {\n",
       "        vertical-align: top;\n",
       "    }\n",
       "\n",
       "    .dataframe thead th {\n",
       "        text-align: right;\n",
       "    }\n",
       "</style>\n",
       "<table border=\"1\" class=\"dataframe\">\n",
       "  <thead>\n",
       "    <tr style=\"text-align: right;\">\n",
       "      <th></th>\n",
       "      <th>1</th>\n",
       "      <th>2</th>\n",
       "      <th>4</th>\n",
       "      <th>7</th>\n",
       "      <th>11</th>\n",
       "      <th>12</th>\n",
       "      <th>15</th>\n",
       "      <th>17</th>\n",
       "      <th>21</th>\n",
       "      <th>bug</th>\n",
       "    </tr>\n",
       "  </thead>\n",
       "  <tbody>\n",
       "    <tr>\n",
       "      <th>0</th>\n",
       "      <td>1.609438</td>\n",
       "      <td>0.693147</td>\n",
       "      <td>0.693147</td>\n",
       "      <td>0.512824</td>\n",
       "      <td>0.000000</td>\n",
       "      <td>0.512824</td>\n",
       "      <td>0.000000</td>\n",
       "      <td>1.386294</td>\n",
       "      <td>0.693147</td>\n",
       "      <td>0.0</td>\n",
       "    </tr>\n",
       "    <tr>\n",
       "      <th>1</th>\n",
       "      <td>3.440424</td>\n",
       "      <td>0.845543</td>\n",
       "      <td>0.782293</td>\n",
       "      <td>0.098336</td>\n",
       "      <td>0.078987</td>\n",
       "      <td>4.956367</td>\n",
       "      <td>1.233898</td>\n",
       "      <td>2.502505</td>\n",
       "      <td>2.190275</td>\n",
       "      <td>1.0</td>\n",
       "    </tr>\n",
       "    <tr>\n",
       "      <th>2</th>\n",
       "      <td>3.395635</td>\n",
       "      <td>1.386294</td>\n",
       "      <td>1.386294</td>\n",
       "      <td>0.079520</td>\n",
       "      <td>0.110839</td>\n",
       "      <td>5.463206</td>\n",
       "      <td>0.986052</td>\n",
       "      <td>2.604675</td>\n",
       "      <td>1.791759</td>\n",
       "      <td>1.0</td>\n",
       "    </tr>\n",
       "    <tr>\n",
       "      <th>3</th>\n",
       "      <td>2.890372</td>\n",
       "      <td>1.098612</td>\n",
       "      <td>1.098612</td>\n",
       "      <td>0.113329</td>\n",
       "      <td>0.048790</td>\n",
       "      <td>4.214643</td>\n",
       "      <td>0.693147</td>\n",
       "      <td>2.397895</td>\n",
       "      <td>1.386294</td>\n",
       "      <td>0.0</td>\n",
       "    </tr>\n",
       "    <tr>\n",
       "      <th>4</th>\n",
       "      <td>1.098612</td>\n",
       "      <td>0.693147</td>\n",
       "      <td>0.693147</td>\n",
       "      <td>0.693147</td>\n",
       "      <td>0.000000</td>\n",
       "      <td>0.231112</td>\n",
       "      <td>0.000000</td>\n",
       "      <td>1.098612</td>\n",
       "      <td>0.693147</td>\n",
       "      <td>0.0</td>\n",
       "    </tr>\n",
       "  </tbody>\n",
       "</table>\n",
       "</div>"
      ],
      "text/plain": [
       "          1         2         4         7        11        12        15  \\\n",
       "0  1.609438  0.693147  0.693147  0.512824  0.000000  0.512824  0.000000   \n",
       "1  3.440424  0.845543  0.782293  0.098336  0.078987  4.956367  1.233898   \n",
       "2  3.395635  1.386294  1.386294  0.079520  0.110839  5.463206  0.986052   \n",
       "3  2.890372  1.098612  1.098612  0.113329  0.048790  4.214643  0.693147   \n",
       "4  1.098612  0.693147  0.693147  0.693147  0.000000  0.231112  0.000000   \n",
       "\n",
       "         17        21  bug  \n",
       "0  1.386294  0.693147  0.0  \n",
       "1  2.502505  2.190275  1.0  \n",
       "2  2.604675  1.791759  1.0  \n",
       "3  2.397895  1.386294  0.0  \n",
       "4  1.098612  0.693147  0.0  "
      ]
     },
     "execution_count": 40,
     "metadata": {},
     "output_type": "execute_result"
    }
   ],
   "source": [
    "corr_features = [\"6\",\"5\",\"8\",\"9\",\"20\",\"18\",\"19\",\"10\",\"13\"]\n",
    "data2=data.drop(corr_features,axis=1)\n",
    "data2.head()"
   ]
  },
  {
   "cell_type": "code",
   "execution_count": 41,
   "metadata": {},
   "outputs": [
    {
     "data": {
      "text/plain": [
       "((650, 9), (279, 9))"
      ]
     },
     "execution_count": 41,
     "metadata": {},
     "output_type": "execute_result"
    }
   ],
   "source": [
    "# separate dataset into train and test\n",
    "from sklearn.model_selection import train_test_split\n",
    "X_train, X_test, y_train, y_test = train_test_split(\n",
    "    data2.drop(\"bug\",axis=1),\n",
    "    data2[\"bug\"],\n",
    "    test_size=0.3,\n",
    "    random_state=0)\n",
    "\n",
    "X_train.shape, X_test.shape"
   ]
  },
  {
   "cell_type": "code",
   "execution_count": 45,
   "metadata": {},
   "outputs": [
    {
     "name": "stdout",
     "output_type": "stream",
     "text": [
      "0.7588652482269502\n",
      "0.7562435765673176\n"
     ]
    }
   ],
   "source": [
    "from sklearn.svm import SVC, LinearSVC\n",
    "from sklearn.metrics import f1_score,roc_auc_score\n",
    "SVM = LinearSVC()\n",
    "SVM.fit(X_train, y_train)\n",
    "y_pred = SVM.predict(X_test)\n",
    "#SVM.score(X_test,y_test)\n",
    "f1_score1 = f1_score(y_test,y_pred)\n",
    "roc_auc_score1 = roc_auc_score(y_test,y_pred)\n",
    "print(f1_score1)\n",
    "print(roc_auc_score1)"
   ]
  }
 ],
 "metadata": {
  "kernelspec": {
   "display_name": "Python 3",
   "language": "python",
   "name": "python3"
  },
  "language_info": {
   "codemirror_mode": {
    "name": "ipython",
    "version": 3
   },
   "file_extension": ".py",
   "mimetype": "text/x-python",
   "name": "python",
   "nbconvert_exporter": "python",
   "pygments_lexer": "ipython3",
   "version": "3.6.4"
  }
 },
 "nbformat": 4,
 "nbformat_minor": 2
}
